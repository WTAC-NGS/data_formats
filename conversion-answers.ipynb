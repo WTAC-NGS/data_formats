{
 "cells": [
  {
   "cell_type": "markdown",
   "metadata": {},
   "source": [
    "# File conversion - Answers\n",
    "__1.__ The CRAM file is ~18 MB. We can check this using:\n",
    "```\n",
    "ls -lh data/yeast.cram\n",
    "```\n",
    "__2.__ Yes, the BAM file is ~16 MB bigger than the CRAM file. We can check this using:\n",
    "```\n",
    "ls -lh data/yeast*\n",
    "```"
   ]
  }
 ],
 "metadata": {
  "kernelspec": {
   "display_name": "Bash",
   "language": "bash",
   "name": "bash"
  },
  "language_info": {
   "codemirror_mode": "shell",
   "file_extension": ".sh",
   "mimetype": "text/x-sh",
   "name": "bash"
  }
 },
 "nbformat": 4,
 "nbformat_minor": 2
}
