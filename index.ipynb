{
 "cells": [
  {
   "cell_type": "markdown",
   "metadata": {},
   "source": [
    "# NGS Data formats and QC\n",
    "\n",
    "## Introduction\n",
    "There are several file formats for storing Next Generation Sequencing (NGS) data. In this tutorial we will look at some of the most common formats for storing NGS reads and variant data. We will cover the following formats:\n",
    "\n",
    "__FASTQ__ - This format stores unaligned read sequences with base qualities  \n",
    "__SAM/BAM__ - This format stores unaligned or aligned reads (text and binary formats)  \n",
    "__CRAM__ - This format is similar to BAM but has better compression than BAM  \n",
    "__VCF/BCF__ - Flexible variant call format for storing SNPs, indels, structural variations (text and binary formats)  \n",
    "\n",
    "Following this, we will work through some examples of converting between the different formats.  \n",
    "\n",
    "Further to understanding the different file formats, it is important to remember that all sequencing platforms have technical limitations that can introduce biases in your sequencing data. Because of this it is very important to check the quality of the data before starting any analysis, whether you are planning to use something you have sequenced yourself or publicly available data. In the latter part of this tutorial we will describe how to perform a QC assessment for your NGS data, and also suggest how to identify possible contamination.\n",
    "\n",
    "## Learning outcomes\n",
    "On completion of the tutorial, you can expect to be able to:\n",
    "\n",
    "* Describe the different NGS data formats available (FASTQ, SAM/BAM, CRAM, VCF/BCF)\n",
    "* Perform conversions between the different data formats\n",
    "* Perform a QC assessment of high throughput sequence data\n",
    "* Identify possible contamination in high throughput sequence data\n",
    "\n",
    "## Tutorial sections\n",
    "This tutorial comprises the following sections:   \n",
    " 1. [Data formats](formats.ipynb)   \n",
    " 2. [File conversion](conversion.ipynb)   \n",
    " 3. [QC assessment](assessment.ipynb)   \n",
    " 4. [Identifying contamination](contamination.ipynb)   \n",
    "\n",
    "## Authors\n",
    "This tutorial was written by [Sara Sjunnebo](https://github.com/ssjunnebo) based on material from [Petr Danecek](https://github.com/pd3) and [Thomas Keane](https://github.com/tk2).\n",
    "\n",
    "## Running the commands from this tutorial\n",
    "You can run the commands in this tutorial either directly from the Jupyter notebook (if using Jupyter), or by typing the commands in your terminal window. \n",
    "\n",
    "### Running commands on Jupyter\n",
    "If you are using Jupyter, command cells (like the one below) can be run by selecting the cell and clicking _Cell -> Run_ from the menu above or using _ctrl Enter_ to run the command. Let's give this a try by printing our working directory using the _pwd_ command and listing the files within it. Run the commands in the two cells below."
   ]
  },
  {
   "cell_type": "code",
   "execution_count": null,
   "metadata": {},
   "outputs": [],
   "source": [
    "pwd"
   ]
  },
  {
   "cell_type": "code",
   "execution_count": null,
   "metadata": {},
   "outputs": [],
   "source": [
    "ls -l"
   ]
  },
  {
   "cell_type": "markdown",
   "metadata": {},
   "source": [
    "### Running commands in the terminal\n",
    "You can also follow this tutorial by typing all the commands you see into a terminal window. This is similar to the \"Command Prompt\" window on MS Windows systems, which allows the user to type DOS commands to manage files.\n",
    "\n",
    "To get started, select the cell below with the mouse and then either press control and enter or choose Cell -> Run in the menu at the top of the page."
   ]
  },
  {
   "cell_type": "code",
   "execution_count": null,
   "metadata": {},
   "outputs": [],
   "source": [
    "echo cd $PWD"
   ]
  },
  {
   "cell_type": "markdown",
   "metadata": {},
   "source": [
    "Now open a new terminal on your computer and type the command that was output by the previous cell followed by the enter key. The command will look similar to this:\n",
    "\n",
    "    cd /home/manager/pathogen-informatics-training/Notebooks/QC/\n",
    "    \n",
    "You should set up a Conda environment to install software. Now you can follow the instructions in the tutorial from here.\n",
    "\n",
    "## Let’s get started!\n",
    "This tutorial assumes that you have samtools, bcftools, bwa, Picard tools and Kraken installed on your computer. The easiest way to do this is by creating a Conda environment as described below - see also the  [official documentation](https://docs.conda.io/projects/conda/en/latest/user-guide/tasks/manage-environments.html#creating-an-environment-with-commands).\n",
    "\n",
    "First run the command to create an environment."
   ]
  },
  {
   "cell_type": "code",
   "execution_count": null,
   "metadata": {},
   "outputs": [],
   "source": [
    "conda create --name pathogen_training --yes"
   ]
  },
  {
   "cell_type": "markdown",
   "metadata": {},
   "source": [
    "This will create and activate your environment, however, if you terminal session is reset then you will need to restart the environmnent so run the command below."
   ]
  },
  {
   "cell_type": "code",
   "execution_count": null,
   "metadata": {},
   "outputs": [],
   "source": [
    "conda activate pathogen_training"
   ]
  },
  {
   "cell_type": "markdown",
   "metadata": {},
   "source": [
    "After your environment is activated the tools can be installed with the commands below."
   ]
  },
  {
   "cell_type": "code",
   "execution_count": null,
   "metadata": {},
   "outputs": [],
   "source": [
    "conda install -c bioconda samtools --yes\n",
    "conda install -c bioconda bcftools --yes\n",
    "conda install -c bioconda bwa --yes\n",
    "conda install -c bioconda picard --yes\n",
    "conda install -c bioconda kraken --yes"
   ]
  },
  {
   "cell_type": "markdown",
   "metadata": {},
   "source": [
    "To check that you have installed these correctly, you can run the following commands:"
   ]
  },
  {
   "cell_type": "code",
   "execution_count": null,
   "metadata": {},
   "outputs": [],
   "source": [
    "samtools --help"
   ]
  },
  {
   "cell_type": "code",
   "execution_count": null,
   "metadata": {},
   "outputs": [],
   "source": [
    "bcftools --help"
   ]
  },
  {
   "cell_type": "code",
   "execution_count": null,
   "metadata": {},
   "outputs": [],
   "source": [
    "bwa"
   ]
  },
  {
   "cell_type": "code",
   "execution_count": null,
   "metadata": {},
   "outputs": [],
   "source": [
    "picard -h"
   ]
  },
  {
   "cell_type": "code",
   "execution_count": null,
   "metadata": {},
   "outputs": [],
   "source": [
    "kraken --help"
   ]
  },
  {
   "cell_type": "markdown",
   "metadata": {},
   "source": [
    "This should return the help message for samtools, bcftools bwa, picardtools and kraken respectively.\n",
    "\n",
    "To get started with the tutorial, head to the first section: [Data formats](formats.ipynb)"
   ]
  }
 ],
 "metadata": {
  "kernelspec": {
   "display_name": "Bash",
   "language": "bash",
   "name": "bash"
  },
  "language_info": {
   "codemirror_mode": "shell",
   "file_extension": ".sh",
   "mimetype": "text/x-sh",
   "name": "bash"
  }
 },
 "nbformat": 4,
 "nbformat_minor": 2
}
