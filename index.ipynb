{
 "cells": [
  {
   "cell_type": "markdown",
   "metadata": {},
   "source": [
    "# Data Formats and QC tutorial\n",
    "\n",
    "## Introduction\n",
    "There are many different file formats for storing NGS data and analysis results. In this tutolial we will be looking at the most common ones used for storing NGS reads and variant calling results:\n",
    "\n",
    "__FASTQ__ - Unaligned read sequences with base qualities  \n",
    "__SAM/BAM__ - Unaligned or aligned reads (text and binary formats)  \n",
    "__CRAM__ - Better compression than BAM  \n",
    "__VCF/BCF__ - SNPs, indels, structural variations (text and binary formats)  \n",
    "\n",
    "All sequencing platforms have technical limitations that can introduce errors in your sequencing data. Because of this it is very important to check the quality of the data before starting any analysis, wether it's something you have sequenced yourself or publicly available data. We will look a how you can performa a QC assessment for your NGS data, and also how to identify possible contamination.\n",
    "\n",
    "## Learning outcomes\n",
    "On completion of the tutorial, you can expect to be able to:\n",
    "\n",
    "* Describe the different NGS data formats available (FASTQ, SAM/BAM, CRAM, VCF/BCF)\n",
    "* Perform conversions between the different data formats\n",
    "* Perform a QC assessment of high throughput sequence data\n",
    "* Identify possible contamination in high throughput sequence data\n",
    "\n",
    "## Tutorial sections\n",
    "This tutorial comprises the following stages:\n",
    "1. [Data formats](formats.ipynb)\n",
    "2. [File conversion](conversion.ipynb)\n",
    "3. [QC assessment](assessment.ipynb)\n",
    "4. [Identifying contamination](contamination.ipynb)\n",
    "\n",
    "## Authors\n",
    "This tutorial was written by [Sara Sjunnebo](https://github.com/ssjunnebo) based on material from [Petr Danecek](https://github.com/pd3) and [Thomas Keane](https://github.com/tk2).\n",
    "\n",
    "## Running the commands from this tutorial\n",
    "You can run the commands in this tutorial either directly from the Jupyter notebook (if using Jupyter), or by typing the commands in your terminal window. \n",
    "\n",
    "### Running commands on Jupyter\n",
    "If you are using Jupyter, command cells (like the one below) can be run by selecting the cell and clicking _Cell -> Run_ from the menu above or using _ctrl Enter_ to run the command. Let's give this a try by printing our working directory using the _pwd_ command and listing the files within it. Run the commands in the two cells below."
   ]
  },
  {
   "cell_type": "code",
   "execution_count": null,
   "metadata": {
    "collapsed": true
   },
   "outputs": [],
   "source": [
    "pwd"
   ]
  },
  {
   "cell_type": "code",
   "execution_count": null,
   "metadata": {
    "collapsed": true
   },
   "outputs": [],
   "source": [
    "ls -l"
   ]
  },
  {
   "cell_type": "markdown",
   "metadata": {},
   "source": [
    "### Running commands in the terminal\n",
    "You can also follow this course by typing all the commands you see into a terminal window. This is similar to the \"Command Prompt\" window on MS Windows systems, which allows the user to type DOS commands to manage files.\n",
    "\n",
    "To get started, select the cell below with the mouse and then either press control and enter or choose Cell -> Run in the menu at the top of the page."
   ]
  },
  {
   "cell_type": "code",
   "execution_count": null,
   "metadata": {
    "collapsed": true
   },
   "outputs": [],
   "source": [
    "echo cd $PWD"
   ]
  },
  {
   "cell_type": "markdown",
   "metadata": {},
   "source": [
    "Now open a new terminal on your computer and type the command that was output by the previous cell followed by the enter key. The command will look similar to this:\n",
    "\n",
    "    cd /home/manager/pathogen-informatics-training/Notebooks/QC/\n",
    "    \n",
    "Now you can follow the instructions in the tutorial from here.\n",
    "\n",
    "## Let’s get started!\n",
    "This tutorial assumes that you have samtools, bcftools and bwa installed on your computer. For download and installation instructions, please see:\n",
    "\n",
    "* The [samtools website](http://samtools.sourceforge.net/)\n",
    "* The [bcftools website](http://www.htslib.org/download/)\n",
    "* The [bwa GitHub page](https://github.com/lh3/bwa)\n",
    "\n",
    "To check that you have installed samtools and bcftools correctly, you can run the following commands:"
   ]
  },
  {
   "cell_type": "code",
   "execution_count": null,
   "metadata": {
    "collapsed": true
   },
   "outputs": [],
   "source": [
    "samtools --help"
   ]
  },
  {
   "cell_type": "code",
   "execution_count": null,
   "metadata": {
    "collapsed": true
   },
   "outputs": [],
   "source": [
    "bcftools --help"
   ]
  },
  {
   "cell_type": "markdown",
   "metadata": {},
   "source": [
    "This should return the help message for samtools and bcf tools, respectively.\n",
    "\n",
    "Similarly, to check that you have installed bwa correctly, you can run:"
   ]
  },
  {
   "cell_type": "code",
   "execution_count": null,
   "metadata": {
    "collapsed": true
   },
   "outputs": [],
   "source": [
    "bwa"
   ]
  },
  {
   "cell_type": "markdown",
   "metadata": {},
   "source": [
    "This should return the help message for bwa."
   ]
  },
  {
   "cell_type": "markdown",
   "metadata": {},
   "source": [
    "To get started with the tutorial, head to the first section: [Data formats](formats.ipynb)  \n",
    "The answers to all questions in the tutorial can be found [here](answers.ipynb)."
   ]
  }
 ],
 "metadata": {
  "kernelspec": {
   "display_name": "Bash",
   "language": "bash",
   "name": "bash"
  },
  "language_info": {
   "codemirror_mode": "shell",
   "file_extension": ".sh",
   "mimetype": "text/x-sh",
   "name": "bash"
  }
 },
 "nbformat": 4,
 "nbformat_minor": 2
}
