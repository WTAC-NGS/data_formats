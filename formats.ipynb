{
 "cells": [
  {
   "cell_type": "markdown",
   "metadata": {},
   "source": [
    "# Data formats for NGS data\n",
    "When it comes to NGS data, there are many different types of data formats. Here we will have a closer look at some of the most common ones that you are likely to encounter."
   ]
  },
  {
   "cell_type": "markdown",
   "metadata": {},
   "source": [
    "## FASTQ\n",
    "FASTQ is a simple format for raw unaligned sequencing reads. It is an extension to the FASTA file format it that it also includes a quality score for each base. Have a look at the example below:\n",
    "\n",
    "```\n",
    "@ERR007731.739 IL16_2979:6:1:9:1684/1\n",
    "CTTGACGACTTGAAAAATGACGAAATCACTAAAAAACGTGAAAAATGAGAAATG\n",
    "+\n",
    "BBCBCBBBBBBBABBABBBBBBBABBBBBBBBBBBBBBABAAAABBBBB=@>B\n",
    "@ERR007731.740 IL16_2979:6:1:9:1419/1\n",
    "AAAAAAAAAGATGTCATCAGCACATCAGAAAAGAAGGCAACTTTAAAACTTTTC\n",
    "+\n",
    "BBABBBABABAABABABBABBBAAA>@B@BBAA@4AAA>.>BAA@779:AAA@A\n",
    "```\n",
    "The first line, starting with @, holds the read metadata, such as an ID. The second line holds the read itself, the third line starts with a + and can optionally contain the ID again, and the forth line contains the per base quality score.\n",
    "\n",
    "The quality score is encoded in [ASCII characters](https://en.wikipedia.org/wiki/ASCII) including decimal codes 33-126. For example, the ASCII code of “A” is 65, so the corresponding quality is Q = 65 − 33 = 32. From this we can calculate the Phred quality score  as P = 10^−Q/10.\n",
    "\n",
    "The following simple perl command will print the quality score value for an ASCII character. Try changing the \"A\" for another character, for example one from the quality strings above (e.g. @, B or =)"
   ]
  },
  {
   "cell_type": "code",
   "execution_count": null,
   "metadata": {
    "collapsed": false
   },
   "outputs": [],
   "source": [
    "perl -e 'printf \"%d\\n\",ord(\"A\")-33;'"
   ]
  },
  {
   "cell_type": "markdown",
   "metadata": {},
   "source": [
    "Something to beware of is that multiple quality scores were in use, for example Sanger, Solexa and Illumina 1.3+.\n",
    "\n",
    "For paired-end sequencing, two FASTQ files are produced."
   ]
  },
  {
   "cell_type": "markdown",
   "metadata": {},
   "source": [
    "## SAM/BAM\n",
    "SAM (Sequence Alignment/Map) format was developed by the 1000 Genomes Project group in 2009 and is a unified format for storing read alignments to a reference genome. SAM/BAM format is the accepted standard format for storing NGS sequencing reads, base qualities, associated meta-data and alignments of the data to a reference genome. If no reference genome is available, the data can also be stored unaligned.\n",
    "\n",
    "The files consists of one record (a single DNA fragment alignment) per line describing alignment between fragment and reference, each with 11 fixed columns and optional key:type:value tuples. We will look closer at the different parts of the SAM/BAM format now.\n",
    "\n",
    "### Header\n",
    "Download the SAM/BAM file specification document from http://samtools.github.io/hts-specs. From reading page 4 of the SAM specification, look at the following line from the header of the BAM file: \n",
    "\n",
    "```\n",
    "@RG ID:ERR003612 PL:ILLUMINA LB:g1k-sc-NA20538-TOS-1 PI:2000 DS:SRP000540 SM:NA20538 CN:SC\n",
    "```\n",
    "__Q1: What does RG stand for?  \n",
    "Q2: What is the sequencing platform?  \n",
    "Q3: What is the sequencing centre?  \n",
    "Q4: What is the lane ID?  \n",
    "Q5: What is the expected fragment insert size?__  \n",
    "\n",
    "### SAM fields\n",
    "1. QNAME Query NAME of the read or the read pair\n",
    "2. FLAG Bitwise FLAG (pairing, strand, mate strand, etc.)\n",
    "3. RNAME Reference sequence NAME\n",
    "4. POS 1-Based leftmost POSition of clipped alignment\n",
    "5. MAPQ MAPping Quality (Phred-scaled)\n",
    "6. CIGAR Extended CIGAR string (operations: MIDNSHPX=)\n",
    "7. MRNM Mate Reference NaMe (’=’ if same as RNAME)\n",
    "8. MPOS 1-Based leftmost Mate POSition\n",
    "9. ISIZE Inferred Insert SIZE\n",
    "10. SEQ Query SEQuence on the same strand as the reference\n",
    "11. QUAL Query QUALity (ASCII-33=Phred base quality)\n",
    "12. OTHER Optional fields\n",
    "\n",
    "![SAM](img/SAM_BAM.png)"
   ]
  },
  {
   "cell_type": "markdown",
   "metadata": {},
   "source": [
    "### CIGAR string\n",
    "The CIGAR string provides a compact representation of sequence alignment. Have a look at the table below. It contains the meaning of all possible symbols of a CIGAR string:\n",
    "\n",
    "|Symbol|Meaning|\n",
    "|------|-------|\n",
    "|M|alignment match or mismatch|\n",
    "|=|sequence match|\n",
    "|X|sequence mismatch|\n",
    "|I|insertion to the reference|\n",
    "|D|deletion from the reference|\n",
    "|S|soft clipping (clipped sequences present in SEQ)|\n",
    "|H|hard clipping (clipped sequences NOT present in SEQ)|\n",
    "|N|skipped region from the reference|\n",
    "|P|padding (silent deletion from padded reference)|\n",
    "\n",
    "Below are some examples describing the CIGAR string in more detail.\n",
    "  \n",
    "__Example 1:__  \n",
    "Ref:   ACGTACGTACGTACGT  \n",
    "Read:  ACGT----ACGTACGA  \n",
    "Cigar: 4M 4D 8M  \n",
    "\n",
    "The first four bases in the read are the same as in the reference, so we can represent these as 4M in the CIGAR string. Next comes 4 deletions, represented by 4D, followed by 7 alignment matches and one alignmen mismatch, represented by 8M.\n",
    "\n",
    "__Example 2:__  \n",
    "Ref:  ACGT----ACGTACGT  \n",
    "Read: ACGTACGTACGTACGT  \n",
    "Cigar: 4M 4I 8M  \n",
    "\n",
    "This example is very similar to the previous one, except this time we have an insertion instead of a deletion, represented by 4I.\n",
    "\n",
    "__Example 3:__\n",
    "Ref:  ACTCAGTG--GT  \n",
    "Read: ACGCA-TGCAGTtagacgt  \n",
    "Cigar: 5M 1D 2M 2I 2M 7S  \n",
    "\n",
    "Here we start off with 5 alignment matches and missmatches, followed by one deletion. Then we have two more alignment matches, two insetions and two more matches. At the end, we have seven soft clippings, 7S. These are clipped sequences that are present in the SEQ (Query SEQuence on the same strand as the reference).\n",
    "\n",
    "### Flags\n",
    "|Hex|Dec|Flag|Description|\n",
    "|---|---|----|-----------|\n",
    "|0x1|1|PAIRED|paired-end (or multiple-segment) sequencing technology|\n",
    "|0x2|2|PROPER_PAIR|each segment properly aligned according to the aligner|\n",
    "|0x4|4|UNMAP|segment unmapped|\n",
    "|0x8|8|MUNMAP|next segment in the template unmapped|\n",
    "|0x10|16|REVERSE|SEQ is reverse complemented|\n",
    "|0x20|32|MREVERSE|SEQ of the next segment in the template is reversed|\n",
    "|0x40|64|READ1|the first segment in the template|\n",
    "|0x80|128|READ2|the last segment in the template|\n",
    "|0x100|256|SECONDARY|secondary alignment|\n",
    "|0x200|512|QCFAIL|not passing quality controls|\n",
    "|0x400|1024|DUP|PCR or optical duplicate|\n",
    "|0x800|2048|SUPPLEMENTARY|supplementary alignment|\n",
    "\n",
    "### Optional tags\n",
    "Each lane has a unique RG tag that contains meta-data for the lane\n",
    "RG tags\n",
    "* ID: SRR/ERR number\n",
    "* PL: Sequencing platform\n",
    "* PU: Run name\n",
    "* LB: Library name\n",
    "* PI: Insert fragment size\n",
    "* SM: Individual\n",
    "* CN: Sequencing center\n",
    "\n",
    "![metadata](img/metadata_sam.png)\n",
    "\n",
    "\n",
    "\n",
    "### BAM\n",
    "BAM (Binary Alignment/Map) format, is a binary version of SAM, developed for fast processing and random access. To acheive this BGZF (Block GZIP) compression is used for indexing. The key features of BAM are:\n",
    "\n",
    "* Can store alignments from most mappers\n",
    "* Supports multiple sequencing technologies\n",
    "* Supports indexing for quick retrieval/viewing\n",
    "* Compact size (e.g. 112Gbp Illumina = 116GB disk space)\n",
    "* Reads can be grouped into logical groups e.g. lanes, libraries, samples\n",
    "* Widely supported by variant calling packages and viewers"
   ]
  },
  {
   "cell_type": "markdown",
   "metadata": {},
   "source": [
    "Samtools comprises a set of programs for interacting with SAM/BAM files. Using the samtools view command, print the header of the BAM file:"
   ]
  },
  {
   "cell_type": "code",
   "execution_count": null,
   "metadata": {
    "collapsed": true
   },
   "outputs": [],
   "source": [
    "samtools view -H NA20538.bam"
   ]
  },
  {
   "cell_type": "markdown",
   "metadata": {},
   "source": [
    "__Q6: What version of the human assembly was used to perform the alignments?  \n",
    "Q7: How many lanes are in this BAM file?  \n",
    "Q8: What programs were used to create this BAM file?  \n",
    "Q9: What version of bwa was used to align the reads?__  \n",
    "\n",
    "Now have a look at the first read of the BAM file:"
   ]
  },
  {
   "cell_type": "code",
   "execution_count": null,
   "metadata": {
    "collapsed": true
   },
   "outputs": [],
   "source": [
    "samtools view NA20538.bam | head"
   ]
  },
  {
   "cell_type": "markdown",
   "metadata": {},
   "source": [
    "__Q10: What is the name of the first read?  \n",
    "Q11: What position does the alignment of the read start at?  \n",
    "Q12: What is the mapping quality of the first read?__"
   ]
  },
  {
   "cell_type": "markdown",
   "metadata": {},
   "source": [
    "## CRAM\n",
    "Even thoug BAM files are compressed, they are still too large. Typically they use 1.5-2 bytes per base pair, and while disk capacity is ever improved, increases in disk capacity are being far outstripped by sequencing technologies.\n",
    "\n",
    "![compression](img/compression_cram.png)\n",
    "\n",
    "BAM stores all of the data, every read base and base quality, and uses a single conventional compression technique for all types of data. To further decrase the size, CRAM was introduced. It uses three important concepts:\n",
    "\n",
    "* Reference based compression\n",
    "* Controlled loss of quality information\n",
    "* Different compression methods to suit the type of data, e.g. base qualities vs. metadata vs. extra tags\n",
    "\n",
    "![CRAM](img/CRAM_format.png)\n",
    "![CRAM2](img/CRAM_format2.png)\n",
    "![CRAM_structure](img/CRAM_structure.png)\n",
    "In lossless mode a CRAM file makes out 60% of the size of a BAM file. Archives and sequencing centers are now moving from BAM to CRAM and support for CRAM was added to Samtools/HTSlib in 2014. It is also soon to be available in Picard/GATK.\n",
    "\n"
   ]
  },
  {
   "cell_type": "markdown",
   "metadata": {},
   "source": [
    "## VCF/BCF\n",
    "File format for storing variation data\n",
    "• Tab-delimited text, parsable by standard UNIX commands\n",
    "• Flexible and user-extensible\n",
    "• Compressed with BGZF (bgzip), indexed with TBI or CSI (tabix)\n",
    "\n",
    "![VCF_format](img/VCF1.png)\n",
    "\n",
    "VCFs can be very big\n",
    "• compressed VCF with 3781 samples, human data:\n",
    "• 54 GB for chromosome 1\n",
    "• 680 GB whole genome\n",
    "VCFs can be slow to parse\n",
    "• text conversion is slow\n",
    "• main bottleneck: FORMAT fields\n",
    "\n",
    "![VCF_format2](img/VCF2.png)\n",
    "\n",
    "BCF\n",
    "• binary representation of VCF\n",
    "• fields rearranged for fast access\n",
    "\n",
    "![VCF_format3](img/VCF3.png)\n",
    "\n",
    "Often it is not enough not know variant sites only\n",
    "• was a site dropped because of a reference call or because of missing data?\n",
    "• we need evidence for both variant and non-variant positions in the genome\n",
    "gVCF\n",
    "• blocks of reference-only sites can be represented in a single record using the\n",
    "INFO/END tag\n",
    "• symbolic alleles <\\*> for incremental calling\n",
    "• raw, “callable” gVCF\n",
    "• calculate genotype likelihoods only once (an expensive step)\n",
    "• then call incrementally as more samples come in\n",
    "\n",
    "![gVCF_format](img/gVCF.png)\n"
   ]
  },
  {
   "cell_type": "code",
   "execution_count": null,
   "metadata": {
    "collapsed": true
   },
   "outputs": [],
   "source": []
  }
 ],
 "metadata": {
  "kernelspec": {
   "display_name": "Bash",
   "language": "bash",
   "name": "bash"
  },
  "language_info": {
   "codemirror_mode": "shell",
   "file_extension": ".sh",
   "mimetype": "text/x-sh",
   "name": "bash"
  }
 },
 "nbformat": 4,
 "nbformat_minor": 2
}
