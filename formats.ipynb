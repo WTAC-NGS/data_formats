{
 "cells": [
  {
   "cell_type": "markdown",
   "metadata": {},
   "source": [
    "# Data formats for NGS data\n",
    "When it comes to NGS data, there are many different types of data formats. Here we will have a closer look at some of the most common ones that you are likely to encounter."
   ]
  },
  {
   "cell_type": "markdown",
   "metadata": {},
   "source": [
    "## FASTQ\n",
    "FASTQ is a simple format for raw unaligned sequencing reads. It is an extension to the FASTA file format, also including a quality score for each base. For paired-end sequencing, two FASTQ files are produced. Have a look at the example below, containing two reads:\n",
    "  \n",
    "```\n",
    "@ERR007731.739 IL16_2979:6:1:9:1684/1\n",
    "CTTGACGACTTGAAAAATGACGAAATCACTAAAAAACGTGAAAAATGAGAAATG\n",
    "+\n",
    "BBCBCBBBBBBBABBABBBBBBBABBBBBBBBBBBBBBABAAAABBBBB=@>B\n",
    "@ERR007731.740 IL16_2979:6:1:9:1419/1\n",
    "AAAAAAAAAGATGTCATCAGCACATCAGAAAAGAAGGCAACTTTAAAACTTTTC\n",
    "+\n",
    "BBABBBABABAABABABBABBBAAA>@B@BBAA@4AAA>.>BAA@779:AAA@A\n",
    "```\n",
    "   \n",
    "The first line, starting with `@`, holds the read metadata, such as the read ID, and the second line holds the read itself. The third line starts with a `+` and can optionally contain the ID again, and the forth line contains the per base quality score.\n",
    "\n",
    "The quality score is encoded in [ASCII characters](https://en.wikipedia.org/wiki/ASCII), including decimal codes 33-126. For example, the ASCII code of “A” is 65, so the corresponding quality is:\n",
    "   \n",
    "```   \n",
    "Q = 65 − 33 = 32\n",
    "```\n",
    "   \n",
    "From this we can calculate the [Phred quality score](https://en.wikipedia.org/wiki/Phred_quality_score) as:\n",
    "   \n",
    "&nbsp;&nbsp;&nbsp;&nbsp;&nbsp;&nbsp; P = 10<sup>−Q/10</sup>   \n",
    "   \n",
    "The following simple perl command will print the quality score value for an ASCII character. Try changing the \"A\" to another character, for example one from the quality strings above (e.g. @, = or B)."
   ]
  },
  {
   "cell_type": "code",
   "execution_count": null,
   "metadata": {
    "collapsed": false
   },
   "outputs": [],
   "source": [
    "perl -e 'printf \"%d\\n\",ord(\"A\")-33;'"
   ]
  },
  {
   "cell_type": "markdown",
   "metadata": {},
   "source": [
    "Something to be aware of is that multiple quality scores have been in use, for example Sanger, Solexa and Illumina 1.3+."
   ]
  },
  {
   "cell_type": "markdown",
   "metadata": {},
   "source": [
    "## SAM/BAM\n",
    "[SAM (Sequence Alignment/Map)](https://samtools.github.io/hts-specs/SAMv1.pdf) format was developed by the 1000 Genomes Project group in 2009 and is a unified format for storing read alignments to a reference genome. SAM/BAM format is the accepted standard format for storing NGS sequencing reads, base qualities, associated meta-data and alignments of the data to a reference genome. If no reference genome is available, the data can also be stored unaligned.\n",
    "\n",
    "The files consists a header section (optional) and an alignment section. The alignment section contains one record (a single DNA fragment alignment) per line describing the alignment between fragment and reference. Each record has 11 fixed columns and optional key:type:value tuples. Let us have a closer look at the different parts of the SAM/BAM format.\n",
    "\n",
    "### Header\n",
    "Each line in the SAM header begins with an `@`, followed by a two-letter header record type code defined in the [SAM/BAM file specification document](https://samtools.github.io/hts-specs/SAMv1.pdf). Have a look at this document to familiarise yourself with the SAM and BAM format.  \n",
    "  \n",
    "From reading section 1.3 of the SAM specification, look at the following line from the header of the BAM file: \n",
    "\n",
    "```\n",
    "@RG ID:ERR003612 PL:ILLUMINA LB:g1k-sc-NA20538-TOS-1 PI:2000 DS:SRP000540 SM:NA20538 CN:SC\n",
    "```\n",
    "   \n",
    "__Q1: What does RG stand for?  \n",
    "Q2: What is the sequencing platform?  \n",
    "Q3: What is the sequencing centre?  \n",
    "Q4: What is the lane ID?  \n",
    "Q5: What is the expected fragment insert size?__  \n",
    "\n",
    "### SAM fields\n",
    "The alignment section of SAM files contains one line per read fragment alignment, which in turn contains the columns listed below. The first 11 on these are mandatory.\n",
    "\n",
    "1. QNAME Query NAME of the read or the read pair\n",
    "2. FLAG Bitwise FLAG (pairing, strand, mate strand, etc.)\n",
    "3. RNAME Reference sequence NAME\n",
    "4. POS 1-Based leftmost POSition of clipped alignment\n",
    "5. MAPQ MAPping Quality (Phred-scaled)\n",
    "6. CIGAR Extended CIGAR string (operations: MIDNSHPX=)\n",
    "7. MRNM Mate Reference NaMe (’=’ if same as RNAME)\n",
    "8. MPOS 1-Based leftmost Mate POSition\n",
    "9. ISIZE Inferred Insert SIZE\n",
    "10. SEQ Query SEQuence on the same strand as the reference\n",
    "11. QUAL Query QUALity (ASCII-33=Phred base quality)\n",
    "12. OTHER Optional fields\n",
    "\n",
    "The image below provides a visual guide to some of the columns of the SAM format.\n",
    "\n",
    "<img src=\"img/SAM_BAM.png\" alt=\"SAM\" style=\"width: 500px;\"/>"
   ]
  },
  {
   "cell_type": "markdown",
   "metadata": {},
   "source": [
    "### CIGAR string\n",
    "The CIGAR string provides a compact representation of sequence alignment. Have a look at the table below. It contains the meaning of all different symbols of a CIGAR string:\n",
    "\n",
    "|Symbol|Meaning|\n",
    "|------|-------|\n",
    "|M|alignment match or mismatch|\n",
    "|=|sequence match|\n",
    "|X|sequence mismatch|\n",
    "|I|insertion to the reference|\n",
    "|D|deletion from the reference|\n",
    "|S|soft clipping (clipped sequences present in SEQ)|\n",
    "|H|hard clipping (clipped sequences NOT present in SEQ)|\n",
    "|N|skipped region from the reference|\n",
    "|P|padding (silent deletion from padded reference)|\n",
    "\n",
    "Below are some examples describing the CIGAR string in more detail.\n",
    "  \n",
    "__Example 1:__  \n",
    "Ref:&nbsp;&nbsp;&nbsp;&nbsp;&nbsp;ACGTACGTACGTACGT  \n",
    "Read:&nbsp;&nbsp;ACGT-&nbsp;-&nbsp;-&nbsp;-&nbsp;ACGTACGA  \n",
    "Cigar: 4M 4D 8M  \n",
    "\n",
    "The first four bases in the read are the same as in the reference, so we can represent these as 4M in the CIGAR string. Next comes 4 deletions, represented by 4D, followed by 7 alignment matches and one alignment mismatch, represented by 8M. Note that the mismatch at position 16 is included in 8M. This is because it still aligns to the reference.\n",
    "\n",
    "__Example 2:__  \n",
    "Ref:&nbsp;&nbsp;&nbsp;&nbsp;&nbsp;ACGT-&nbsp;-&nbsp;-&nbsp;-&nbsp;ACGTACGT  \n",
    "Read:&nbsp;&nbsp;ACGTACGTACGTACGT  \n",
    "Cigar: 4M 4I 8M  \n",
    "\n",
    "This example is very similar to the previous one, except this time we have an insertion instead of a deletion, represented by 4I.\n",
    "\n",
    "__Example 3:__  \n",
    "Ref:&nbsp;&nbsp;&nbsp;&nbsp;&nbsp;ACTCAGTG-&nbsp;-&nbsp;GT  \n",
    "Read:&nbsp;&nbsp;ACGCA-&nbsp;TGCAGTtagacgt  \n",
    "Cigar: 5M 1D 2M 2I 2M 7S  \n",
    "\n",
    "Here we start off with 5 alignment matches and missmatches, followed by one deletion. Then we have two more alignment matches, two insetions and two more matches. At the end, we have seven soft clippings, 7S. These are clipped sequences that are present in the SEQ (Query SEQuence on the same strand as the reference).\n",
    "\n",
    "### Flags\n",
    "The second column for a read alignment in a SAM file contains a combination of bitwise FLAGs describing the alignment. The following table contains the information you can get from the bitwise FLAGs:\n",
    "   \n",
    "|Hex|Dec|Flag|Description|\n",
    "|---|---|----|-----------|\n",
    "|0x1|1|PAIRED|paired-end (or multiple-segment) sequencing technology|\n",
    "|0x2|2|PROPER_PAIR|each segment properly aligned according to the aligner|\n",
    "|0x4|4|UNMAP|segment unmapped|\n",
    "|0x8|8|MUNMAP|next segment in the template unmapped|\n",
    "|0x10|16|REVERSE|SEQ is reverse complemented|\n",
    "|0x20|32|MREVERSE|SEQ of the next segment in the template is reversed|\n",
    "|0x40|64|READ1|the first segment in the template|\n",
    "|0x80|128|READ2|the last segment in the template|\n",
    "|0x100|256|SECONDARY|secondary alignment|\n",
    "|0x200|512|QCFAIL|not passing quality controls|\n",
    "|0x400|1024|DUP|PCR or optical duplicate|\n",
    "|0x800|2048|SUPPLEMENTARY|supplementary alignment|\n",
    "\n",
    "For example, if you have an alignment with FLAG set to 113, this can only be represented by decimal codes `64 + 32 + 16 + 1`, so we know that these four flags apply to the alignment.\n",
    "\n",
    "\n",
    "### Optional tags\n",
    "Optionally, additional information can be stored in TAGs. Each lane has a unique RG tag that contains meta-data for the lane. Some common TAGs are:\n",
    "\n",
    "* ID: SRR/ERR number\n",
    "* PL: Sequencing platform\n",
    "* PU: Run name\n",
    "* LB: Library name\n",
    "* PI: Insert fragment size\n",
    "* SM: Individual\n",
    "* CN: Sequencing center\n",
    "\n",
    "For further information about TAGs, see the [SAM/BAM file specification document](https://samtools.github.io/hts-specs/SAMv1.pdf).\n",
    "\n",
    "### BAM\n",
    "BAM (Binary Alignment/Map) format, is a binary version of SAM, developed for fast processing and random access. To acheive this, BGZF (Block GZIP) compression is used for indexing. The key features of BAM are:\n",
    "\n",
    "* Can store alignments from most mappers\n",
    "* Supports multiple sequencing technologies\n",
    "* Supports indexing for quick retrieval/viewing\n",
    "* Compact size (e.g. 112Gbp Illumina = 116GB disk space)\n",
    "* Reads can be grouped into logical groups e.g. lanes, libraries, samples\n",
    "* Widely supported by variant calling packages and viewers\n",
    "   \n",
    "Samtools comprises a set of programs for interacting with SAM and BAM files. Using the samtools view command, print the header of the BAM file:"
   ]
  },
  {
   "cell_type": "code",
   "execution_count": null,
   "metadata": {
    "collapsed": true
   },
   "outputs": [],
   "source": [
    "samtools view -H data/NA20538.bam"
   ]
  },
  {
   "cell_type": "markdown",
   "metadata": {},
   "source": [
    "__Q6: What version of the human assembly was used to perform the alignments?  \n",
    "Q7: How many lanes are in this BAM file?  \n",
    "Q8: What programs were used to create this BAM file?  \n",
    "Q9: What version of bwa was used to align the reads?__  \n",
    "\n",
    "Now have a look at the first read of the BAM file:"
   ]
  },
  {
   "cell_type": "code",
   "execution_count": null,
   "metadata": {
    "collapsed": true
   },
   "outputs": [],
   "source": [
    "samtools view data/NA20538.bam | head"
   ]
  },
  {
   "cell_type": "markdown",
   "metadata": {},
   "source": [
    "__Q10: What is the name of the first read?  \n",
    "Q11: What position does the alignment of the read start at?  \n",
    "Q12: What is the mapping quality of the first read?__"
   ]
  },
  {
   "cell_type": "markdown",
   "metadata": {},
   "source": [
    "## CRAM\n",
    "Even thoug BAM files are compressed, they are still too large. Typically they use 1.5-2 bytes per base pair, and while disk capacity is ever improving, increases in disk capacity are being far outstripped by sequencing technologies.\n",
    "\n",
    "<img src=\"img/compression_cram.png\" alt=\"CRAM_Compr\" style=\"width: 700px;\"/>\n",
    "\n",
    "The BAM format stores all of the data, every read base and base quality, and uses a single conventional compression technique for all types of data. To further decrease the size, CRAM was introduced. It uses three important concepts:\n",
    "\n",
    "* Reference based compression\n",
    "* Controlled loss of quality information\n",
    "* Different compression methods to suit the type of data, e.g. base qualities vs. metadata vs. extra tags\n",
    "\n",
    "The figure below displays how reference based compression works. Instead of saving all the bases of all the reads,only the nucleotides that differ from the reference, and their positions, are kept.\n",
    "\n",
    "<img src=\"img/CRAM_format.png\" alt=\"CRAM\" style=\"width: 500px;\"/>\n",
    "<img src=\"img/CRAM_format2.png\" alt=\"CRAM2\" style=\"width: 500px;\"/>\n",
    "\n",
    "In lossless mode a CRAM file makes out 60% of the size of a BAM file, so archives and sequencing centers are now moving from BAM to CRAM and support for CRAM was added to Samtools/HTSlib in 2014."
   ]
  },
  {
   "cell_type": "markdown",
   "metadata": {},
   "source": [
    "## VCF/BCF\n",
    "The VCF file format and it's binary version BCF were introduced to store variation data. VCF consists of tab-delimited text and is parsable by standard UNIX commands which makes it flexible and user-friendly. The figure below provides an overview of the different components of a VCF file:\n",
    "\n",
    "<img src=\"img/VCF1.png\" alt=\"VCF_format\" style=\"width: 700px;\"/>\n",
    "\n",
    "VCF can be compressed with BGZF (bgzip) and  indexed with TBI or CSI (tabix), but it even compressed it can still be very big. For example, a compressed VCF with 3781 samples of human data will be 54 GB for chromosome 1, and 680 GB for the whole genome. \n",
    "\n",
    "VCFs can also be slow to parse, as text conversion is slow. The main bottleneck is the \"FORMAT\" fields. For this reason BCF format, a binary representation of VCF, was developed. In BCF files the fields are rearranged for fast access. The following images show the process of converting a VCF file into a BCF file. \n",
    "\n",
    "<img src=\"img/VCF2.png\" alt=\"VCF_format\" style=\"width: 800px;\"/>\n",
    "<img src=\"img/VCF3.png\" alt=\"VCF_format\" style=\"width: 800px;\"/>\n",
    "\n",
    "The official specification is available from http://samtools.github.io/hts-specs.\n",
    "\n",
    "Bcftools comprises a set of programs for interacting with VCF/BCF files. You can use bcftools to convert between VCF and BCF and to view or extract records from a region.\n",
    "   \n",
    "Using the bcftools view command, print the header of the BCF file:"
   ]
  },
  {
   "cell_type": "code",
   "execution_count": null,
   "metadata": {
    "collapsed": true
   },
   "outputs": [],
   "source": [
    "bcftools view -h data/1kg.bcf"
   ]
  },
  {
   "cell_type": "markdown",
   "metadata": {},
   "source": [
    "__Q13: What version of the human assembly do the coordinates refer to?__  \n",
    "\n",
    "Similarly to BAM, VCF/BCF supports random access, that is, fast retrieval from a given region. For this, the file must be indexed:"
   ]
  },
  {
   "cell_type": "code",
   "execution_count": null,
   "metadata": {
    "collapsed": true
   },
   "outputs": [],
   "source": [
    "bcftools index data/1kg.bcf"
   ]
  },
  {
   "cell_type": "markdown",
   "metadata": {},
   "source": [
    "Now extract all records from the region 20:24042765-24043073"
   ]
  },
  {
   "cell_type": "code",
   "execution_count": null,
   "metadata": {
    "collapsed": true
   },
   "outputs": [],
   "source": [
    "bcftools view -H -r 20:24042765-24043073 data/1kg.bcf"
   ]
  },
  {
   "cell_type": "markdown",
   "metadata": {},
   "source": [
    "The versatile bcftools query command can be used to extract any VCF field. Combined with standard UNIX commands, this gives a powerful tool for quick querying of VCFs. Try to answer the following questions with the help of the [manual page](http://samtools.github.io/bcftools/bcftools.html). You can use the blank code cell below to try out your commands.\n",
    "\n",
    "__Q14: How many samples are in the BCF? (Hint: use the -l option)   \n",
    "Q15: What is the genotype of the sample HG00107 at the position 20:24019472? (Hint: use the combination of -r, -s, and -f '[ %TGT]\\n' options)   \n",
    "Q16: How many positions there are with more than 10 alternate alleles (see the INFO/AC tag)? (Hint: use the -i filtering option)   \n",
    "Q17: List all positions where HG00107 has a non-reference genotype and the read depth is bigger than 10.__   "
   ]
  },
  {
   "cell_type": "code",
   "execution_count": null,
   "metadata": {
    "collapsed": false
   },
   "outputs": [],
   "source": []
  },
  {
   "cell_type": "markdown",
   "metadata": {},
   "source": [
    "### gVCF\n",
    "Often it is not enough not know variant sites only. For instance, you will not know if a site was dropped because of a reference call or because of missing data. We sometimes need evidence for both variant and non-variant positions in the genome. In gVCF format, blocks of reference-only sites can be represented in a single record using the \"INFO/END\" tag. Symbolic alleles (<\\*>) are used for incremental calling:\n",
    "\n",
    "<img src=\"img/gVCF.png\" alt=\"gVCF_format\" style=\"width: 700px;\"/>"
   ]
  },
  {
   "cell_type": "markdown",
   "metadata": {},
   "source": [
    "The answers to the questions on this page can be found [here](answers.ipynb).   \n",
    "\n",
    "Now continue to the next section of the tutorial: [File conversion](conversion.ipynb).   \n",
    "You can also return to the [index page](index.ipynb)."
   ]
  }
 ],
 "metadata": {
  "kernelspec": {
   "display_name": "Bash",
   "language": "bash",
   "name": "bash"
  },
  "language_info": {
   "codemirror_mode": "shell",
   "file_extension": ".sh",
   "mimetype": "text/x-sh",
   "name": "bash"
  }
 },
 "nbformat": 4,
 "nbformat_minor": 2
}
