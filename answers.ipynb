{
 "cells": [
  {
   "cell_type": "markdown",
   "metadata": {},
   "source": [
    "# Answers\n",
    "## 1. Data formats for NGS data\n",
    "__1.__ Read Group  \n",
    "__2.__ Illumina, see the PL field  \n",
    "__3.__ SC, see the CN field  \n",
    "__4.__ ERR003612, see the ID field  \n",
    "__5.__ 2kbp, see the PI field  \n",
    "  \n",
    "__6.__ NCBI build v37  \n",
    "__7.__ Either count the @RG lines manually or use standard UNIX commands such as:\n",
    "```\n",
    "samtools view -H NA20538.bam | grep ^@RG | wc -l\n",
    "```\n",
    "or \n",
    "```\n",
    "samtools view -H NA20538.bam | awk '{if($1==\"@RG\")n++}END{print n}'\n",
    "```\n",
    "__8.__ See the @PG lines  \n",
    "__9.__ Find the @PG line and the VN field  \n",
    "__10.__ ERR003814.1408899  \n",
    "__11.__ Chromosome 1, position 19999970  \n",
    "__12.__ Q23  \n"
   ]
  }
 ],
 "metadata": {
  "kernelspec": {
   "display_name": "Bash",
   "language": "bash",
   "name": "bash"
  },
  "language_info": {
   "codemirror_mode": "shell",
   "file_extension": ".sh",
   "mimetype": "text/x-sh",
   "name": "bash"
  }
 },
 "nbformat": 4,
 "nbformat_minor": 2
}
