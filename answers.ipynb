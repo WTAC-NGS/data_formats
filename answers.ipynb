{
 "cells": [
  {
   "cell_type": "markdown",
   "metadata": {},
   "source": [
    "# Answers\n",
    "## 1. Data formats for NGS data\n",
    "__1.__ Read Group  \n",
    "__2.__ Illumina, see the PL field  \n",
    "__3.__ SC, see the CN field  \n",
    "__4.__ ERR003612, see the ID field  \n",
    "__5.__ 2kbp, see the PI field  \n",
    "  \n",
    "__6.__ NCBI build v37  \n",
    "__7.__ Either count the @RG lines manually or use standard UNIX commands such as:\n",
    "```\n",
    "samtools view -H NA20538.bam | grep ^@RG | wc -l\n",
    "```\n",
    "or \n",
    "```\n",
    "samtools view -H NA20538.bam | awk '{if($1==\"@RG\")n++}END{print n}'\n",
    "```\n",
    "__8.__ See the @PG lines  \n",
    "__9.__ Find the @PG line and the VN field  \n",
    "__10.__ ERR003814.1408899  \n",
    "__11.__ Chromosome 1, position 19999970  \n",
    "__12.__ Q23  \n",
    "  \n",
    "__13.__ See the ##reference line.  \n",
    "__14.__ Use `bcftools query -l 1kg.bcf` to get list of samples and `wc -l` to count the lines.  \n",
    "__15.__ Use the following command:  \n",
    "```\n",
    "bcftools query -f'%POS [ %TGT]\\n' -r 20:24019472 -s HG00107 1kg.bcf\n",
    "```   \n",
    "__16.__ Use the following command:  \n",
    "```\n",
    "bcftools query -f'%POS\\n' -i 'AC[0]>10' 1kg.bcf | wc -l\n",
    "```  \n",
    "__17.__ Use the first command to subset the sample HG00107 and pipe its output to the second command to filter by depth and non-reference genotype. The third command head limits the output to first few lines:  \n",
    "```\n",
    "bcftools view -s HG00107 1kg.bcf | \\ \n",
    "bcftools query -i'FMT/DP>=10 & FMT/GT!=\"0/0\"' -f'%POS[ %GT %DP]\\n' | \\ \n",
    "head\n",
    "```"
   ]
  },
  {
   "cell_type": "markdown",
   "metadata": {},
   "source": [
    "## 2. File conversion\n",
    "__1.__ ~18 MB  \n",
    "__2.__ Yes, the BAM file is ~16 MB bigger than the CRAM file  "
   ]
  },
  {
   "cell_type": "markdown",
   "metadata": {},
   "source": [
    "## 3. QC assessment of NGS data\n",
    "__1.__ The peak is at 140 bp, and the read length is 100 bp. This means that the forward and reverse reads overlap with 60 bp.   \n",
    "__2.__ 400252  \n",
    "   \n",
    "Look inside the file and locate the field \"raw total sequences\". To extract the information quickly from multiple files, commands similar to the following can be used: \n",
    "```\n",
    "grep ^SN lane*.sorted.bam.bchk | awk -F'\\t' '$2==\"raw total sequences:\"'\n",
    "```\n",
    "   \n",
    "__3.__ ~76% (303036 out of 400252)  \n",
    "__4.__ 2235   \n",
    "__5.__ Insert size mean: 276.4, standard deviation: 46.9  \n",
    "__6.__ This command should print zero:  \n",
    "```\n",
    "samtools view lane1.sorted.bam | awk 'and($2,0x2) && and($2,0x4)' | wc -l\n",
    "```\n",
    "   \n",
    "__7.__ 23,803  \n",
    "__8.__ The forward reads (look at the \"Quality per cycle\" graphs)  \n",
    "\n",
    "## 4. Identifying contamination\n",
    "__1.__  \n",
    "__2.__  \n",
    "__3.__ "
   ]
  }
 ],
 "metadata": {
  "kernelspec": {
   "display_name": "Bash",
   "language": "bash",
   "name": "bash"
  },
  "language_info": {
   "codemirror_mode": "shell",
   "file_extension": ".sh",
   "mimetype": "text/x-sh",
   "name": "bash"
  }
 },
 "nbformat": 4,
 "nbformat_minor": 2
}
