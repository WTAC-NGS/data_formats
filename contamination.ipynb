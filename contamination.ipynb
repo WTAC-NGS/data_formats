{
 "cells": [
  {
   "cell_type": "markdown",
   "metadata": {},
   "source": [
    "# Identifying contamination\n",
    "It is always a good idea to check that your data is from the species you expect it to be. A very useful tool for this is [Kraken](https://www.ebi.ac.uk/research/enright/software/kraken). In this tutorial we will go through how you can use Kraken to check your samples for contamination.\n",
    "\n",
    "__Note if using the Sanger cluster:__ Kraken is run as part of the automatic qc pipeline and you can retreive the results using the `pf qc` script. For more information, run `pf man qc`. \n",
    "\n",
    "## Setting up a database\n",
    "To run Kraken you need to either build a database or download an existing one. The standard database is very large (33 GB), but thankfully there are some smaller, pre-built databased available. To download the smallest of them, the 4 GB MiniKraken, run:\n",
    "\n",
    "`wget https://ccb.jhu.edu/software/kraken/dl/minikraken_20171019_4GB.tgz`\n",
    "\n",
    "Then all you need to do is un-tar it:\n",
    "\n",
    "`tar -zxvf minikraken_20171019_4GB.tgz`\n",
    "\n",
    "If the pre-packaged databases are not quite what you are looking for, you can create your own customized database instead. Details about this can be found [here](http://ccb.jhu.edu/software/kraken/MANUAL.html#custom-databases).\n",
    "\n",
    "__Note if using the Sanger cluster:__ There are several pre-built databases available centrally on the Sanger cluster. For more information, please contact the Pathogen Informatics team.\n",
    "\n",
    "## Running Kraken\n",
    "To run Kraken, you need to provide the path to the database you just created. By default, the input files are assumed to be in FASTA format, so in this case we also need to tell Kraken that our input files are in FASTQ format, gzipped, and that they are paired end reads:\n",
    "\n",
    "`kraken --db /path/to/minikraken_20171019_4GB --output kraken_results --fastq-input --gzip-compressed --paired data/13681_1#18_1.fastq.gz data/13681_1#18_2.fastq.gz`\n",
    "\n",
    "The kraken_results file that is produced will look something like:"
   ]
  },
  {
   "cell_type": "markdown",
   "metadata": {},
   "source": [
    "```\n",
    "C       HS38_13681:1:1101:1200:79237#18 1313    201     0:26 1313:1 0:18 1313:1 0:24 A:31 0:32 1301:2 0:13 1313:1 0:14 1313:1 0:7\n",
    "C       HS38_13681:1:1101:1203:67902#18 1313    201     0:2 1313:1 0:7 1313:1 0:48 1313:1 0:9 1313:1 A:31 0:4 1313:1 0:7 1301:1 0:25 1313:1 0:5 1313:1 0:7 1313:1 0:15 1313:1 0:1\n",
    "C       HS38_13681:1:1101:1203:95955#18 1313    201     0:27 1301:1 0:7 1301:1 0:17 1301:1 0:16 A:31 0:4 1313:1 0:28 1301:1 0:19 1301:1 0:16\n",
    "C       HS38_13681:1:1101:1207:84487#18 1313    201     0:62 1313:1 0:7 A:31 0:3 1301:1 0:29 1313:1 0:6 1313:1 0:12 1313:1 0:16\n",
    "C       HS38_13681:1:1101:1207:91454#18 1313    201     0:42 1301:1 0:27 A:31 0:16 1301:1 0:26 1313:1 0:26\n",
    "C       HS38_13681:1:1101:1208:26781#18 1313    201     0:46 1313:1 0:23 A:31 0:15 1313:1 0:1 1313:1 0:6 1313:1 0:24 1313:1 0:20\n",
    "C       HS38_13681:1:1101:1208:76534#18 1313    201     1313:1 0:4 1313:1 0:1 1313:1 0:62 A:31 0:19 1313:2 0:43 1313:1 0:5\n",
    "C       HS38_13681:1:1101:1209:37708#18 1313    201     0:6 1313:1 0:18 1313:1 0:44 A:31 1301:1 0:28 1313:1 0:40\n",
    "C       HS38_13681:1:1101:1211:90237#18 1313    201     0:1 1313:1 0:7 1313:1 0:4 1301:1 0:9 1301:1 0:4 1301:1 0:5 1301:1 0:34 A:31 0:15 1313:1 0:18 1301:1 0:28 1301:1 0:6\n",
    "C       HS38_13681:1:1101:1213:82376#18 1313    201     0:7 1313:1 0:10 1313:1 0:10 1313:1 0:1 1313:1 0:35 1313:2 0:1 A:31 0:55 1301:1 0:14\n",
    "C       HS38_13681:1:1101:1218:39426#18 1313    201     0:25 1301:1 0:44 A:31 0:8 1301:1 0:7 1301:1 0:1 1313:1 0:12 1313:1 0:5 1313:1 0:32\n",
    "C       HS38_13681:1:1101:1218:62545#18 1313    201     1313:1 0:3 1313:1 0:41 1300:1 0:18 1300:1 0:3 1300:1 A:31 0:30 1301:1 0:17 1313:1 0:16 1301:1 0:4\n",
    "U       HS38_13681:1:1101:1218:66374#18 0       201     0:70 A:31 0:70\n",
    "C       HS38_13681:1:1101:1220:51648#18 1313    201     1301:2 0:6 1301:1 0:6 1301:1 0:10 1301:1 0:2 1301:1 0:6 1301:1 0:12 1301:1 0:20 A:31 0:31 1313:1 0:31 1313:1 0:6\n",
    "C       HS38_13681:1:1101:1222:54548#18 1313    201     0:26 1313:1 0:43 A:31 1313:1 0:7 1313:1 0:8 1313:1 0:6 1301:1 0:4 1301:1 0:40\n",
    "...\n",
    "```\n",
    "According to the [Kraken manual](http://ccb.jhu.edu/software/kraken/MANUAL.html), the five columns in this file are :\n",
    "\n",
    "1. \"C\"/\"U\": one letter code indicating that the sequence was either classified or unclassified.\n",
    "2. The sequence ID, obtained from the FASTA/FASTQ header.\n",
    "3. The taxonomy ID Kraken used to label the sequence; this is 0 if the sequence is unclassified.\n",
    "4. The length of the sequence in bp.\n",
    "5. A space-delimited list indicating the LCA mapping of each k-mer in the sequence.\n",
    "\n",
    "To make this a bit clearer you can create a kraken report:\n",
    "\n",
    "`kraken-report --db /path/to/minikraken_20171019_4GB --print_header kraken_results > kraken-report`\n",
    "\n",
    "## Looking at the results\n",
    "Let's have a closer look at the kraken_report for the sample:"
   ]
  },
  {
   "cell_type": "code",
   "execution_count": 1,
   "metadata": {
    "collapsed": false
   },
   "outputs": [
    {
     "name": "stdout",
     "output_type": "stream",
     "text": [
      "#Kraken version: kraken-0.10.6-a2d113dc8f\n",
      "#Database: /lustre/scratch118/infgen/pathogen/pathpipe/kraken/minikraken_20140330\n",
      "  1.33\t17491\t17491\tU\t0\tunclassified\n",
      " 98.67\t1296036\t14289\t-\t1\troot\n",
      " 97.58\t1281687\t0\t-\t131567\t  cellular organisms\n",
      " 97.58\t1281687\t424\tD\t2\t    Bacteria\n",
      " 97.53\t1281086\t342\tP\t1239\t      Firmicutes\n",
      " 97.50\t1280744\t287\tC\t91061\t        Bacilli\n",
      " 97.48\t1280454\t644\tO\t186826\t          Lactobacillales\n",
      " 97.43\t1279808\t127\tF\t1300\t            Streptococcaceae\n",
      " 97.42\t1279681\t144729\tG\t1301\t              Streptococcus\n",
      " 86.17\t1131862\t1076308\tS\t1313\t                Streptococcus pneumoniae\n",
      "  1.30\t17075\t17075\t-\t561276\t                  Streptococcus pneumoniae ATCC 700669\n",
      "  1.25\t16375\t16375\t-\t488222\t                  Streptococcus pneumoniae JJA\n",
      "  0.22\t2838\t2838\t-\t516950\t                  Streptococcus pneumoniae CGSP14\n",
      "  0.21\t2818\t2818\t-\t170187\t                  Streptococcus pneumoniae TIGR4\n",
      "  0.20\t2602\t2602\t-\t1130804\t                  Streptococcus pneumoniae ST556\n",
      "  0.16\t2100\t2100\t-\t869269\t                  Streptococcus pneumoniae INV104\n",
      "  0.13\t1723\t1723\t-\t189423\t                  Streptococcus pneumoniae 670-6B\n",
      "  0.13\t1710\t1710\t-\t487214\t                  Streptococcus pneumoniae Hungary19A-6\n"
     ]
    }
   ],
   "source": [
    "head -n 20  data/kraken-report"
   ]
  },
  {
   "cell_type": "markdown",
   "metadata": {},
   "source": [
    "According to the [Kraken manual](http://ccb.jhu.edu/software/kraken/MANUAL.html), the six columns in this file are:\n",
    "\n",
    "1. Percentage of reads covered by the clade rooted at this taxon\n",
    "2. Number of reads covered by the clade rooted at this taxon\n",
    "3. Number of reads assigned directly to this taxon\n",
    "4. A rank code, indicating (U)nclassified, (D)omain, (K)ingdom, (P)hylum, (C)lass, (O)rder, (F)amily, (G)enus, or (S)pecies. All other ranks are simply '-'.\n",
    "5. NCBI taxonomy ID\n",
    "6. Scientific name\n",
    "\n",
    "## Exercises\n",
    "__Q1: What is the most prevalent species in this sample?__"
   ]
  },
  {
   "cell_type": "code",
   "execution_count": null,
   "metadata": {
    "collapsed": true
   },
   "outputs": [],
   "source": []
  },
  {
   "cell_type": "markdown",
   "metadata": {},
   "source": [
    "__Q2: Are there clear signs of contamination?__"
   ]
  },
  {
   "cell_type": "code",
   "execution_count": null,
   "metadata": {
    "collapsed": true
   },
   "outputs": [],
   "source": []
  },
  {
   "cell_type": "markdown",
   "metadata": {},
   "source": [
    "__Q3: What percentage of reads could not be classified?__  "
   ]
  },
  {
   "cell_type": "code",
   "execution_count": null,
   "metadata": {
    "collapsed": true
   },
   "outputs": [],
   "source": []
  },
  {
   "cell_type": "markdown",
   "metadata": {},
   "source": [
    "Congratulations! You have reached the end of this tutorial. You can find the answers to all the questions of the tutorial [here](contamination-answers.ipynb).  \n",
    "To revisit the previous section [click here](assessment.ipynb). Alternatively you can head back to the [index page](index.ipynb)"
   ]
  }
 ],
 "metadata": {
  "kernelspec": {
   "display_name": "Bash",
   "language": "bash",
   "name": "bash"
  },
  "language_info": {
   "codemirror_mode": "shell",
   "file_extension": ".sh",
   "mimetype": "text/x-sh",
   "name": "bash"
  }
 },
 "nbformat": 4,
 "nbformat_minor": 2
}
