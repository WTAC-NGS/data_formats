{
 "cells": [
  {
   "cell_type": "markdown",
   "metadata": {},
   "source": [
    "# Identifying contamination\n",
    "It is always a good idea to check that your data is from the species you expect it to be. A very useful tool for this is [Kraken](https://www.ebi.ac.uk/research/enright/software/kraken). In this tutorial we will go through how you can use Kraken to check your samples for contamination. If you have kraken installed, please feel free to follow the rest of this tutorial on the command line. Don't worry if you do not though, as it is not strictly necessary for the sake of this tutorial.\n",
    "\n",
    "__Note if using the Sanger cluster:__ If you have access to the Sanger cluster, Kraken is already centrally installed. Kraken is also run as part of the automatic qc pipeline and you can retreive the results using the `pf qc` script. For more information, run `pf man qc`. \n",
    "\n",
    "## Setting up a database\n",
    "To run Kraken you need to either build a database or download an existing one. The standard database is fairly huge (33 GB) and possibly a bit overkill for running basic QC checks. Thankfully, there are some pre-built databased available. To download the smallest of them, the 4 GB MiniKraken, run:\n",
    "\n",
    "`wget https://ccb.jhu.edu/software/kraken/dl/minikraken_20171019_4GB.tgz`\n",
    "\n",
    "Then all you need to do is un-tar it:\n",
    "\n",
    "`tar -zxvf minikraken_20171019_4GB.tgz`\n",
    "\n",
    "If the pre-packaged databases are not quite what you are looking for, you can create your own customized database instead. Details about this can be found [here](http://ccb.jhu.edu/software/kraken/MANUAL.html#custom-databases).\n",
    "\n",
    "__Note if using the Sanger cluster:__ There are several pre-built databases available centrally on the Sanger cluster. For more information, please contact the Pathogen Informatics team.\n",
    "\n",
    "## Running Kraken\n",
    "To run Kraken, you need to provide it with the path to the database you just created. Bu default, the input files are assumed to be in FASTA format, so in this case we also need to tell Kraken that our input files are in FASTQ and that they are paired end reads:\n",
    "\n",
    "`kraken --db /path/to/minikraken_20171019_4GB --output kraken_results --fastq-input --paired s_7_1.fastq s_7_2.fastq`\n",
    "\n",
    "The kraken_results file that is produced will look something like:"
   ]
  },
  {
   "cell_type": "markdown",
   "metadata": {},
   "source": [
    "```\n",
    "C       1       1313    201     0:48 1313:1 0:21 A:31 0:37 1313:1 0:12 1313:1 0:19\n",
    "C       3       1313    201     0:1 1313:1 0:25 1313:1 0:26 1313:1 0:15 A:31 0:37 1313:1 0:12 1313:1 0:19\n",
    "U       5       0       201     0:70 A:31 0:70\n",
    "C       7       1313    201     0:43 1313:1 0:26 A:31 0:58 1313:1 0:11\n",
    "C       9       1313    201     0:24 1313:1 0:15 1313:1 0:8 1313:1 0:20 A:31 0:25 1313:1 0:23 1313:1 0:20\n",
    "U       11      0       201     0:70 A:31 0:70\n",
    "C       13      561276  201     0:8 1313:1 0:30 1313:1 0:30 A:31 0:4 1313:2 0:9 1313:1 0:14 1313:1 0:35 561276:1 0:3\n",
    "U       15      0       201     0:70 A:31 0:70\n",
    "U       17      0       201     0:70 A:31 0:70\n",
    "U       19      0       201     0:70 A:31 0:70\n",
    "...\n",
    "```\n",
    "According to the [Kraken manual](http://ccb.jhu.edu/software/kraken/MANUAL.html), the five columns in this file are :\n",
    "\n",
    "1. \"C\"/\"U\": one letter code indicating that the sequence was either classified or unclassified.\n",
    "2. The sequence ID, obtained from the FASTA/FASTQ header.\n",
    "3. The taxonomy ID Kraken used to label the sequence; this is 0 if the sequence is unclassified.\n",
    "4. The length of the sequence in bp.\n",
    "5. A space-delimited list indicating the LCA mapping of each k-mer in the sequence.\n",
    "\n",
    "To make this a bit clearer you can create a kraken report:\n",
    "\n",
    "`kraken-report --db /path/to/minikraken_20171019_4GB --print_header kraken_results > kraken-report`\n",
    "\n",
    "## Looking at the results\n",
    "Let's have a closer look at the kraken_report for the s_7 sample:"
   ]
  },
  {
   "cell_type": "code",
   "execution_count": null,
   "metadata": {
    "collapsed": false
   },
   "outputs": [
    {
     "name": "stdout",
     "output_type": "stream",
     "text": [
      "#Kraken version: kraken-0.10.6-a2d113dc8f\n",
      "#Database: /lustre/scratch118/infgen/pathogen/pathpipe/kraken/minikraken_2014033 \b0\n",
      " 89.97    178811    178811    U    0    unclassified\n",
      " 10.03    19942    515    -    1    root\n",
      "  9.76    19393    21    -    131567      cellular organisms\n",
      "  9.66    19193    72    D    2        Bacteria\n",
      "  6.63    13179    4    P    1239          Firmicutes\n",
      "  6.62    13158    8    C    91061            Bacilli\n",
      "  6.57    13050    2    O    1385              Bacillales\n",
      "  6.56    13037    21    F    90964                Staphylococcaceae\n",
      "  6.55    13014    372    G    1279                  Staphylococcus\n",
      "  6.13    12181    0    S    1283                    Staphylococcus haemolyticus\n",
      "  6.13    12181    12181    -    279808                      Staphylococcus haem \bolyticus JCSC1435\n",
      "  0.17    340    0    S    1292                    Staphylococcus warneri\n",
      "  0.17    340    340    -    1194526                      Staphylococcus warneri \b SG1\n",
      "  0.04    79    5    S    1280                    Staphylococcus aureus\n",
      "  0.04    73    16    -    46170                      Staphylococcus aureus subs \bp. aureus\n",
      "  0.02    38    38    -    1123523                        Staphylococcus aureus  \bsubsp. aureus 11819-97\n"
     ]
    }
   ],
   "source": [
    "less data/kraken-report"
   ]
  },
  {
   "cell_type": "markdown",
   "metadata": {},
   "source": [
    "According to the [Kraken manual](http://ccb.jhu.edu/software/kraken/MANUAL.html), the six columns in this file are:\n",
    "\n",
    "1. Percentage of reads covered by the clade rooted at this taxon\n",
    "2. Number of reads covered by the clade rooted at this taxon\n",
    "3. Number of reads assigned directly to this taxon\n",
    "4. A rank code, indicating (U)nclassified, (D)omain, (K)ingdom, (P)hylum, (C)lass, (O)rder, (F)amily, (G)enus, or (S)pecies. All other ranks are simply '-'.\n",
    "5. NCBI taxonomy ID\n",
    "6. Scientific name\n",
    "\n",
    "__Q1: What is the most prevalent species in this sample?  \n",
    "Q2: Are there clear signs of contamination?  \n",
    "Q3: What percentage of reads could not be classified?__  \n",
    "\n",
    "Congratulations! You have reached the end of this tutorial. You can find the answers to all the questions of the tutorial [here](answers.ipynb). To revisit the previous section, [click here](assessment.ipynb), alternatively you can head back to the [index page](index.ipynb)"
   ]
  }
 ],
 "metadata": {
  "kernelspec": {
   "display_name": "Bash",
   "language": "bash",
   "name": "bash"
  },
  "language_info": {
   "codemirror_mode": "shell",
   "file_extension": ".sh",
   "mimetype": "text/x-sh",
   "name": "bash"
  }
 },
 "nbformat": 4,
 "nbformat_minor": 2
}
