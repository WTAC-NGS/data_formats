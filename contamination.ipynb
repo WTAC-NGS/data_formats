{
 "cells": [
  {
   "cell_type": "markdown",
   "metadata": {},
   "source": [
    "# Identifying contamination\n",
    "It is always a good idea to check that your data is from the species you expect it to be. A very useful tool for this is [Kraken](https://www.ebi.ac.uk/research/enright/software/kraken). In this tutorial we will go through how you can use Kraken to check your samples for contamination.\n",
    "\n",
    "__Note if using the Sanger cluster:__ Kraken is run as part of the automatic qc pipeline and you can retreive the results using the `pf qc` script. For more information, run `pf man qc`. \n",
    "\n",
    "## Setting up a database\n",
    "To run Kraken you need to either build a database or download an existing one. The standard database is very large (33 GB), but thankfully there are some smaller, pre-built databased available. To download the smallest of them, the 4 GB MiniKraken. If you don't already have a kraken database set up, run:"
   ]
  },
  {
   "cell_type": "code",
   "execution_count": null,
   "metadata": {},
   "outputs": [],
   "source": [
    "wget https://ccb.jhu.edu/software/kra\\\n",
    "    ken/dl/minikraken_20171019_4GB.tgz"
   ]
  },
  {
   "cell_type": "markdown",
   "metadata": {},
   "source": [
    "Then all you need to do is un-tar it:"
   ]
  },
  {
   "cell_type": "code",
   "execution_count": null,
   "metadata": {},
   "outputs": [],
   "source": [
    "tar -zxvf minikraken_20171019_4GB.tgz"
   ]
  },
  {
   "cell_type": "markdown",
   "metadata": {},
   "source": [
    "This version of the database is constructed from complete bacterial, archaeal, and viral genomes in RefSeq, however it contains only around 3 percent of the kmers from the original kraken database (more information [here](https://ccb.jhu.edu/software/kraken/)). If the pre-packaged databases are not quite what you are looking for, you can create your own customized database instead. Details about this can be found [here](http://ccb.jhu.edu/software/kraken/MANUAL.html#custom-databases).\n",
    "\n",
    "__Note if using the Sanger cluster:__ There are several pre-built databases available centrally on the Sanger cluster. For more information, please contact the Pathogen Informatics team."
   ]
  },
  {
   "cell_type": "markdown",
   "metadata": {},
   "source": [
    "## Running Kraken\n",
    "To run Kraken, you need to provide the path to the database you just created. By default, the input files are assumed to be in FASTA format, so in this case we also need to tell Kraken that our input files are in FASTQ format, gzipped, and that they are paired end reads:"
   ]
  },
  {
   "cell_type": "code",
   "execution_count": null,
   "metadata": {},
   "outputs": [],
   "source": [
    "kraken --db ./minikraken_20171013_4GB --output kraken_results \\\n",
    "    --fastq-input --gzip-compressed --paired \\\n",
    "    data/13681_1#18_1.fastq.gz data/13681_1#18_2.fastq.gz"
   ]
  },
  {
   "cell_type": "markdown",
   "metadata": {},
   "source": [
    "The five columns in the file that's generated are:\n",
    "\n",
    "1. \"C\"/\"U\": one letter code indicating that the sequence was either classified or unclassified.\n",
    "2. The sequence ID, obtained from the FASTA/FASTQ header.\n",
    "3. The taxonomy ID Kraken used to label the sequence; this is 0 if the sequence is unclassified.\n",
    "4. The length of the sequence in bp.\n",
    "5. A space-delimited list indicating the LCA mapping of each k-mer in the sequence.\n",
    "\n",
    "To get a better overview you can create a kraken report:"
   ]
  },
  {
   "cell_type": "code",
   "execution_count": null,
   "metadata": {},
   "outputs": [],
   "source": [
    "kraken-report --db ./minikraken_20171013_4GB \\\n",
    "    kraken_results > kraken-report"
   ]
  },
  {
   "cell_type": "markdown",
   "metadata": {},
   "source": [
    "## Looking at the results\n",
    "Let's have a closer look at the kraken_report for the sample. If for some reason your kraken-run failed there is a prebaked kraken-report at data/kraken-report"
   ]
  },
  {
   "cell_type": "code",
   "execution_count": null,
   "metadata": {},
   "outputs": [],
   "source": [
    "head -n 20 kraken-report"
   ]
  },
  {
   "cell_type": "markdown",
   "metadata": {},
   "source": [
    "The six columns in this file are:\n",
    "\n",
    "1. Percentage of reads covered by the clade rooted at this taxon\n",
    "2. Number of reads covered by the clade rooted at this taxon\n",
    "3. Number of reads assigned directly to this taxon\n",
    "4. A rank code, indicating (U)nclassified, (D)omain, (K)ingdom, (P)hylum, (C)lass, (O)rder, (F)amily, (G)enus, or (S)pecies. All other ranks are simply '-'.\n",
    "5. NCBI taxonomy ID\n",
    "6. Scientific name\n",
    "\n",
    "## Exercises\n",
    "__Q1: What is the most prevalent species in this sample?__"
   ]
  },
  {
   "cell_type": "code",
   "execution_count": null,
   "metadata": {},
   "outputs": [],
   "source": []
  },
  {
   "cell_type": "markdown",
   "metadata": {},
   "source": [
    "__Q2: Are there clear signs of contamination?__"
   ]
  },
  {
   "cell_type": "code",
   "execution_count": null,
   "metadata": {},
   "outputs": [],
   "source": []
  },
  {
   "cell_type": "markdown",
   "metadata": {},
   "source": [
    "__Q3: What percentage of reads could not be classified?__  "
   ]
  },
  {
   "cell_type": "code",
   "execution_count": null,
   "metadata": {},
   "outputs": [],
   "source": []
  },
  {
   "cell_type": "markdown",
   "metadata": {},
   "source": [
    "## Heterozygous SNPs\n",
    "For bacteria, another thing that you can look at to detect contamination is if there are heterozygous SNPs in your samples. Simply put, if you align your reads to a reference, you would expect any snps to be homozygous, i.e. if one read differs from the reference genome, then the rest of the reads that map to that same location will also do so:\n",
    "\n",
    "__Homozygous SNP__  \n",
    "Ref:&nbsp;&nbsp;&nbsp;&nbsp;&nbsp;&nbsp;&nbsp;CTTGAGACGAAATCACTAAAAAACGTGACGACTTG  \n",
    "Read1:&nbsp;&nbsp;CTTGAGtCG  \n",
    "Read2:&nbsp;&nbsp;CTTGAGtCGAAA  \n",
    "Read3:&nbsp;&nbsp;&nbsp;&nbsp;&nbsp;&nbsp;&nbsp;&nbsp;&nbsp;GAGtCGAAATCACTAAAA  \n",
    "Read4:&nbsp;&nbsp;&nbsp;&nbsp;&nbsp;&nbsp;&nbsp;&nbsp;&nbsp;&nbsp;&nbsp;&nbsp;&nbsp;&nbsp;&nbsp;GtCGAAATCA  \n",
    "\n",
    "But if there is contamination, this may not be the case. In the example below, half of the mapped reads have the T allele and half have the A.\n",
    "\n",
    "__Heterozygous SNP__  \n",
    "Ref:&nbsp;&nbsp;&nbsp;&nbsp;&nbsp;&nbsp;&nbsp;CTTGAGACGAAATCACTAAAAAACGTGACGACTTG  \n",
    "Read1:&nbsp;&nbsp;CTTGAGtCG   \n",
    "Read2:&nbsp;&nbsp;CTTGAGaCGAAA  \n",
    "Read3:&nbsp;&nbsp;&nbsp;&nbsp;&nbsp;&nbsp;&nbsp;&nbsp;&nbsp;GAGaCGAAATCACTAAAA  \n",
    "Read4:&nbsp;&nbsp;&nbsp;&nbsp;&nbsp;&nbsp;&nbsp;&nbsp;&nbsp;&nbsp;&nbsp;&nbsp;&nbsp;&nbsp;&nbsp;GtCGAAATCA  \n",
    "\n",
    "__Note if using the Sanger cluster:__ Heterozygous SNPs are calculated as part of the automated QC pipeline. The result for each lane is available in the file heterozygous_snps_report.txt.\n",
    "\n",
    "Congratulations! You have reached the end of this tutorial. You can find the answers to all the questions of the tutorial [here](contamination-answers.ipynb).  \n",
    "\n",
    "To revisit the previous section [click here](assessment.ipynb). Alternatively you can head back to the [index page](index.ipynb)"
   ]
  }
 ],
 "metadata": {
  "kernelspec": {
   "display_name": "Bash",
   "language": "bash",
   "name": "bash"
  },
  "language_info": {
   "codemirror_mode": "shell",
   "file_extension": ".sh",
   "mimetype": "text/x-sh",
   "name": "bash"
  }
 },
 "nbformat": 4,
 "nbformat_minor": 2
}
