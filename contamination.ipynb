{
 "cells": [
  {
   "cell_type": "markdown",
   "metadata": {},
   "source": [
    "# Identifying contamination\n",
    "It is always a good idea to check that your data is from the species you expect it to be. A very useful tool for this is [Kraken](https://www.ebi.ac.uk/research/enright/software/kraken). In this tutorial we will go through how you can use Kraken to check your samples for contamination. If you have kraken installed, please feel free to follow the rest of this tutorial on the command line. Don't worry if you do not though, as it is not strictly necessary for the sake of this tutorial.\n",
    "\n",
    "__Note if using the Sanger cluster:__ If you have access to the Sanger cluster, Kraken is already centrally installed. Kraken is also run as part of the automatic qc pipeline and you can retreive the results using the `pf qc` script. For more information, run `pf man qc`. \n",
    "\n",
    "## Setting up a database\n",
    "To run Kraken you need to either build a database or download an existing one. The standard database is fairly huge (33 GB) and possibly a bit overkill for running basic QC checks. Thankfully, there are some pre-built databased available. Here we are going to use the smallest of them, the 4 GB MiniKraken. To download this, run:\n",
    "\n",
    "`wget https://ccb.jhu.edu/software/kraken/dl/minikraken_20171019_4GB.tgz`\n",
    "\n",
    "Then all you need to do is un-tar it:\n",
    "\n",
    "`tar -zxvf minikraken_20171019_4GB.tgz`\n",
    "\n",
    "If the pre-packaged databases are not quite what you are looking for, you can create your own customized database instead. Details about this can be found [here](http://ccb.jhu.edu/software/kraken/MANUAL.html#custom-databases).\n",
    "\n",
    "__Note if using the Sanger cluster:__ There are several pre-built databases available centrally on the Sanger cluster. For more information, please contact the Pathogen Informatics team.\n",
    "\n",
    "## Running Kraken\n",
    "To run Kraken, you need to provide it with the path to the database you just created. Bu default, the input files are assumed to be in FASTA format, so in this case we also need to tell Kraken that our input files are in FASTQ and that they are paired end reads:\n",
    "\n",
    "`kraken --db /path/to/minikraken_20171019_4GB --output kraken_results --fastq-input --paired s_7_1.fastq s_7_2.fastq`\n",
    "\n",
    "or:\n",
    "\n",
    "`kraken --output kraken_results --fastq-input --paired s_7_1.fastq s_7_2.fastq`\n",
    "\n",
    "The kraken_results file that is produced will look something like:\n",
    "\n",
    "```\n",
    "Not very readable file\n",
    "```\n",
    "The most important parts of this file are column 2 which contains the sequence ID, column 3 that holds the taxon ID  and column 5, which contains a summary of all the taxon IDs that each k-mer in the sequence matched to (taxon ID:number of k-mers).\n",
    "\n",
    "To make this a bit clearer you can create a kraken report:\n",
    "\n",
    "`kraken-report --db /path/to/minikraken_20171019_4GB --print_header kraken_results`\n",
    "\n",
    "## Looking at the results\n",
    "Let's have a closer look at the kraken_report for the s_7 sample:"
   ]
  },
  {
   "cell_type": "code",
   "execution_count": null,
   "metadata": {
    "collapsed": true
   },
   "outputs": [],
   "source": [
    "head data/kraken_report"
   ]
  },
  {
   "cell_type": "markdown",
   "metadata": {},
   "source": [
    "Column 1: percentage of reads in the clade/taxon in Column 6\n",
    "Column 2: number of reads in the clade.\n",
    "Column 3: number of reads in the clade but not further classified.\n",
    "Column 4: code indicating the rank of the classification: (U)nclassified, (D)omain, (K)ingdom, (P)hylum, (C)lass, (O)rder, (F)amily, (G)enus, (S)pecies).\n",
    "Column 5: NCBI taxonomy ID.\n",
    "\n",
    "__Q1: What is the most prevalent species in this sample?  \n",
    "Q2: Are there clear signs of contamination?__  "
   ]
  }
 ],
 "metadata": {
  "kernelspec": {
   "display_name": "Bash",
   "language": "bash",
   "name": "bash"
  },
  "language_info": {
   "codemirror_mode": "shell",
   "file_extension": ".sh",
   "mimetype": "text/x-sh",
   "name": "bash"
  }
 },
 "nbformat": 4,
 "nbformat_minor": 2
}
