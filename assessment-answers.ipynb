{
 "cells": [
  {
   "cell_type": "markdown",
   "metadata": {},
   "source": [
    "# QC assessment of NGS data\n",
    "__1.__ The peak is at 140 bp, and the read length is 100 bp. This means that the forward and reverse reads overlap with 60 bp."
   ]
  },
  {
   "cell_type": "markdown",
   "metadata": {},
   "source": [
    "__2.__ There are 400252 reads in total.\n",
    "   \n",
    "Look inside the file and locate the field \"raw total sequences\". To extract the information quickly from multiple files, commands similar to the following can be used: \n",
    "```\n",
    "grep ^SN lane*.sorted.bam.bchk | awk -F'\\t' '$2==\"raw total sequences:\"'\n",
    "```"
   ]
  },
  {
   "cell_type": "markdown",
   "metadata": {},
   "source": [
    "__3.__ 76% of the reads were mapped. Divide \"reads mapped\" (303036) by \"raw total sequences\" (400252)."
   ]
  },
  {
   "cell_type": "markdown",
   "metadata": {},
   "source": [
    "__4.__ 2235 pairs mapped to a different chromosome. Look for \"pairs on different chromosomes\""
   ]
  },
  {
   "cell_type": "markdown",
   "metadata": {},
   "source": [
    "__5.__ The mean insert size is 276.4 and the standard deviation is 46.9. Look for \"insert size mean\" and \"insert size standard deviation\"."
   ]
  },
  {
   "cell_type": "markdown",
   "metadata": {},
   "source": [
    "__6.__ 282478 reads were properly paired. Look for \"reads properly paired\"."
   ]
  },
  {
   "cell_type": "markdown",
   "metadata": {},
   "source": [
    "__7.__ 23,803 (7.9%) of the reads have zero mapping quality. Look for \"zero MQ\" in the \"Reads\" section."
   ]
  },
  {
   "cell_type": "markdown",
   "metadata": {},
   "source": [
    "__8.__ The forward reads. Look at the \"Quality per cycle\" graphs."
   ]
  }
 ],
 "metadata": {
  "kernelspec": {
   "display_name": "Bash",
   "language": "bash",
   "name": "bash"
  },
  "language_info": {
   "codemirror_mode": "shell",
   "file_extension": ".sh",
   "mimetype": "text/x-sh",
   "name": "bash"
  }
 },
 "nbformat": 4,
 "nbformat_minor": 2
}
