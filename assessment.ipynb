{
 "cells": [
  {
   "cell_type": "markdown",
   "metadata": {},
   "source": [
    "# QC assessment of NGS data\n",
    "\n",
    "Biases in sequencing   \n",
    "* Base calling accuracy\n",
    "* Read cycle vs. base content\n",
    "* GC vs. depth\n",
    "* Indel ratio\n",
    "\n",
    "Biases in mapping   \n",
    "\n",
    "Genotype checking   \n",
    "* Sample swaps\n",
    "* Contaminations\n",
    "\n",
    "## Base quality\n",
    "Sequencing by synthesis: dephasing\n",
    "* growing sequences in a cluster gradually desynchronize\n",
    "* error rate increases with read length\n",
    "Calculate the average quality at each position across all reads\n",
    "\n",
    "![Base Quality](img/base_qual.png)\n",
    "\n",
    "## Base calling errors\n",
    "![Base Calling Errors](img/base_calling_errors.png)\n",
    "_Base-calling for next-generation sequencing platforms_, doi: 10.1093/bib/bbq077\n",
    "\n",
    "## Base quality\n",
    "![Base Quality](img/base_qual2.png)\n",
    "\n",
    "## Mismatches per cycle\n",
    "Mismatches in aligned reads (requires reference sequence)\n",
    "* detect cycle-specific errors\n",
    "* base qualities are informative!\n",
    "\n",
    "![Mismatch](img/mismatches.png)\n",
    "\n",
    "## GC bias\n",
    "GC- and AT-rich regions are more difficult to amplify\n",
    "* compare the GC content against the expected distribution (reference sequence)\n",
    "\n",
    "![GC_Bias](img/gc_bias.png)\n",
    "\n",
    "## GC content by cycle\n",
    "Was the adapter sequence trimmed?\n",
    "\n",
    "![GC_cycle](img/gc_cycle.png)\n",
    "\n",
    "## Fragment size\n",
    "Paired-end sequencing: the size of DNA fragments matters\n",
    "![Fragment size](img/fragment_size.png)\n",
    "\n",
    "## Quiz\n",
    "__Q1: This is 100bp paired-end sequencing. Can you spot any problems?__\n",
    "![quiz](img/qc_quiz.png)\n",
    "\n",
    "## Insertions / Deletions per cycle\n",
    "False indels\n",
    "* air bubbles in the flow cell can manifest as false indels\n",
    "![Indels](img/indels.png)\n",
    "\n",
    "## Auto QC tests\n",
    "A suggestion for human data:  \n",
    "Minimum number of mapped bases 90%  \n",
    "Maximum error rate 0.02%  \n",
    "Maximum number of duplicate reads 5%  \n",
    "Minimum number of mapped reads which are properly paired 80%  \n",
    "Maximum number of duplicated bases due to overlapping read pairs 4%  \n",
    "Maximum in/del ratio 0.82  \n",
    "Minimum in/del ratio 0.68  \n",
    "Maximimum indels per cycle, factor above median 8  \n",
    "Minimum number of reads within 25% of the main peak 80%  \n",
    "\n",
    "![Auto QC](img/auto_qc.png)\n",
    "\n",
    "## Detecting sample swaps\n",
    "Check the identity against a known set of variants\n",
    "\n",
    "![Swap](img/swap.png)\n"
   ]
  },
  {
   "cell_type": "markdown",
   "metadata": {},
   "source": [
    "## Generate QC stats\n",
    "Now let's try this out! We will generate QC stats for two lanes of Illumina paired-end sequencing data from yeast. We will use the bwa mapper to align the data to the Saccromyces cerevisiae genome (ftp://ftp.ensembl.org/pub/current_fasta/saccharomyces_cerevisiae/dna) and samtools stats to generate the stats.\n",
    "\n",
    "Read pairs are usually stored in two separate FASTQ files so that n-th read in the first file and the n-th read in the second file constitute a read pair. Can you devise a quick sanity check that reads in these two files indeed form pairs? The files must have the same number of lines and the naming of the reads usually suggests if they form a pair. The location of the files is:  \n",
    "  \n",
    "data/lane1/s_7_1.fastq   \n",
    "data/lane1/s_7_2.fastq  \n",
    "  \n",
    "Run the script below to create the mappings:"
   ]
  },
  {
   "cell_type": "code",
   "execution_count": null,
   "metadata": {
    "collapsed": true
   },
   "outputs": [],
   "source": [
    "#!/bin/sh\n",
    "\n",
    "# Create the reference genome index, necessary for bwa alignment\n",
    "bwa index Saccharomyces_cerevisiae.EF4.68.dna.toplevel.fa\n",
    "\n",
    "\n",
    "# Several commands are piped one into another:\n",
    "#   - align the lane fastq files with bwa\n",
    "#   - convert the sam output to bam\n",
    "#   - sort the bams\n",
    "#   - index the bams\n",
    "#\n",
    "bwa mem -M \\\n",
    "    -R '@RG\\tID:lane1\\tSM:60A_Sc_DBVPG6044' \\\n",
    "    Saccharomyces_cerevisiae.EF4.68.dna.toplevel.fa \\\n",
    "    data/lane1/s_7_1.fastq \\\n",
    "    data/lane1/s_7_2.fastq |\n",
    "samtools view -b - |\n",
    "samtools sort -T tmp.lane1 -o lane1.sorted.bam\n",
    "samtools index lane1.sorted.bam"
   ]
  },
  {
   "cell_type": "markdown",
   "metadata": {},
   "source": [
    "The script contains several commands, some are combined together using pipes. (UNIX pipes is a very powerful and elegant concept which allows us to feed the output of one command into the next command and avoid writing intermediate files. If you are not comfortable with UNIX, condiser having a go at the UNIX tutorial).\n",
    "\n",
    "The script will produce the BAM file lane1.sorted.bam. Generate the stats including only primary alignments using the command:"
   ]
  },
  {
   "cell_type": "code",
   "execution_count": null,
   "metadata": {
    "collapsed": true
   },
   "outputs": [],
   "source": [
    "samtools stats -F SECONDARY lane1.sorted.bam > lane1.sorted.bam.bchk"
   ]
  },
  {
   "cell_type": "code",
   "execution_count": null,
   "metadata": {
    "collapsed": true
   },
   "outputs": [],
   "source": [
    "cat lane1.sorted.bam.bchk"
   ]
  },
  {
   "cell_type": "markdown",
   "metadata": {},
   "source": [
    "Look at the output and answer the following questions:\n",
    "\n",
    "__Q2: What is the total number of reads?  \n",
    "Q3: What proportion of the reads were mapped?  \n",
    "Q4: How many reads were mapped to a different chromosome?  \n",
    "Q5: What is the insert size mean and standard deviation?  \n",
    "Q6: How many reads were paired properly? Challenge: can you verify that only mapped reads have the PROPER_PAIR bit set? (Skip the second part of this question if you don't know how to use awk and its bitwise and() operation.)__  \n",
    "\n",
    "Next we will create some QC plots from the output of the stats command using the command plot-bamstats which is of the samtools package: "
   ]
  },
  {
   "cell_type": "code",
   "execution_count": null,
   "metadata": {
    "collapsed": true
   },
   "outputs": [],
   "source": [
    "plot-bamstats -p lane1-plots/ lane1.sorted.bam.bchk"
   ]
  },
  {
   "cell_type": "markdown",
   "metadata": {},
   "source": [
    "Now in your web browser open the file lane1-plots/index.html to view the QC information.\n",
    "\n",
    "__Q7: How many reads have zero mapping quality?  \n",
    "Q8: Which of the first fragments or second fragments are higher base quality on average?__  "
   ]
  }
 ],
 "metadata": {
  "kernelspec": {
   "display_name": "Bash",
   "language": "bash",
   "name": "bash"
  },
  "language_info": {
   "codemirror_mode": "shell",
   "file_extension": ".sh",
   "mimetype": "text/x-sh",
   "name": "bash"
  }
 },
 "nbformat": 4,
 "nbformat_minor": 2
}
