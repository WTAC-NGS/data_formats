{
 "cells": [
  {
   "cell_type": "markdown",
   "metadata": {},
   "source": [
    "## QC assessment of NGS data\n",
    "As mentioned previously, QC is an important part of any analysis. In this section we are going to look at some of the metrics and graphs that can be used to assess the QC of NGS data. \n",
    "\n",
    "\n",
    "### Base quality\n",
    "[Illumina sequencing](https://en.wikipedia.org/wiki/Illumina_dye_sequencing) technology relies on sequencing by synthesis. One of the most common problems with this is __dephasing__. For each sequencing cycle, there is a possibility that the replication machinery slips and either incorporates more than one nucleotide or perhaps misses to incorporate one at all. The more cycles that are run (i.e. the longer the read length gets), the greater the accumulation of these types of errors gets. This leads to a heterogeneous population in the cluster, and a decreased signal purity, which in turn reduces the precision of the base calling. The figure below shows an example of this.\n",
    "\n",
    "<img src=\"img/base_qual.png\" alt=\"Base Quality\" style=\"width: 400px;\"/>\n",
    "\n",
    "Because of dephasing, it is possible to have high-quality data at the beginning of the read but really low-quality data towards the end of the read. In those cases you can decide to trim off the low-quality reads, for example using a tool called [Trimmomatic](http://www.usadellab.org/cms/?page=trimmomatic).\n",
    "\n",
    "The figure below shows an example of a high-quality read data on the left, and a poor quality read data on the right.\n",
    "\n",
    "<table style=\"border: 0\"><tr style=\"border: 0\"><td style=\"border: 0\"><img src=\"img/base_qual_pass.png\" width=\"300\"></td><td style=\"border: 0\"><img src=\"img/base_qual_fail.png\" width=\"280\"></td></tr></table>\n"
   ]
  },
  {
   "cell_type": "markdown",
   "metadata": {},
   "source": [
    "### Other base calling errors\n",
    "There are several different reasons for a base to be called incorrectly, as shown in the figure below. __Phasing noise__ and __signal decay__ is a result of the dephasing issue described above. During library preparation, __mixed clusters__ can occur if multiple templates get co-located. These clusters should be removed from the downstream analysis. __Boundary effects__ occur due to optical effects when the intensity is uneven across each tile, resulting in lower intensity toward the edges. __Cross-talk__ occurs because the emission frequency spectra for each of the four dyes partly overlap. Finally, for early chemistries __T fluorophore accumulation__ was an issue, where incomplete cleavage of the dye coupled to thymine lead to an accumulation the nucleotide.\n",
    "\n",
    "<img src=\"img/base_calling_errors.jpg\" alt=\"Base Calling Errors\" style=\"width: 800px;\"/>\n",
    "\n",
    "_Base-calling for next-generation sequencing platforms_, doi: [10.1093/bib/bbq077](https://academic.oup.com/bib/article/12/5/489/268399)\n",
    "\n",
    "### Mismatches per cycle\n",
    "Aligning reads to a high-quality reference genome can provide insight to the quality of a sequencing run by showing you the mismatches to the reference sequence. This can help you detect cycle-specific errors. Mismatches can occur due to two main causes, sequencing errors and differences between your sample and the reference genome, which is important to bear in mind when interpreting mismatch graphs. The figures below show an example of a good run on the left and a bad one on the right. In the left figure, the distribution of the number of mismatches is even between the cycles, which is what we would expect from a good run. However, in the figure on the right, two cycles stand out with a lot of mismatches compared to the other cycles.\n",
    "\n",
    "<table style=\"border: 0\"><tr style=\"border: 0\"><td style=\"border: 0\"><img src=\"img/mismatch_per_cycle_pass.png\" width=\"500\"></td><td style=\"border: 0\"><img src=\"img/mismatch_per_cycle_fail.png\" width=\"500\"></td></tr></table>\n",
    "\n",
    "### GC bias\n",
    "It is a good idea to compare the GC content of the reads against the expected distribution in a reference sequence. The GC content varies between species, so a shift in GC content like the one seen below could be an indication of sample contamination. In the left image below, we can see that the GC content of the sample is about the same as for the reference, at ~38%. However, in the right figure, the GC content of the sample is closer to 55%, indicating that there is an issue with this sample. \n",
    "\n",
    "<img src=\"img/gc_bias.png\" alt=\"GC Bias\" style=\"width: 900px;\"/>\n",
    "\n",
    "\n",
    "### GC content by cycle\n",
    "Looking at the GC content per cycle can help detect if the adapter sequence was trimmed. For a random library, it is expected to be little to no difference between the different bases of a sequence run, so the lines in this plot should be parallel with each other like in the figure on the left below. In the figure on the right, the initial spikes are likely due to adapter sequences that have not been removed. \n",
    "\n",
    "<table style=\"border: 0\"><tr style=\"border: 0\"><td style=\"border: 0\"><img src=\"img/acgt_per_cycle_pass.png\" width=\"480\"></td><td style=\"border: 0\"><img src=\"img/acgt_per_cycle_fail.png\" width=\"520\"></td></tr></table>\n",
    "\n",
    "\n",
    "### Insert size\n",
    "For paired-end sequencing the size of DNA fragments also matters. In the left of the examples below, the insert size peaks around 440 bp. On the right however, there is also a peak at around 200 bp. This indicates that there was an issue with the fragment size selection during library prep.\n",
    "\n",
    "<table style=\"border: 0\"><tr style=\"border: 0\"><td style=\"border: 0\"><img src=\"img/insert_size_pass.png\" width=\"500\"></td><td style=\"border: 0\"><img src=\"img/insert_size_fail.png\" width=\"500\"></td></tr></table>\n",
    "\n",
    "### Exercises\n",
    "__Q1: The figure below is from a 100bp paired-end sequencing. Can you spot any problems?__\n",
    "\n",
    "<img src=\"img/insert_size_quiz.png\" alt=\"quiz\" style=\"width: 550px;\"/>\n",
    "\n",
    "### Insertions/Deletions per cycle\n",
    "Sometimes, air bubbles occur in the flow cell, which can manifest as false indels. The spike in the image on the right provides an example of how this can look.\n",
    "\n",
    "<table style=\"border: 0\"><tr style=\"border: 0\"><td style=\"border: 0\"><img src=\"img/indels-per-cycle.pass.png\" width=\"500\"></td><td style=\"border: 0\"><img src=\"img/indels-per-cycle.fail.png\" width=\"500\"></td></tr></table>\n",
    "\n",
    "\n"
   ]
  },
  {
   "cell_type": "markdown",
   "metadata": {},
   "source": [
    "## Generating QC stats\n",
    "Now let's try this out! We will generate QC stats for two lanes of Illumina paired-end sequencing data from yeast. We will use the bwa mapper to align the data to the [Saccromyces cerevisiae genome](ftp://ftp.ensembl.org/pub/current_fasta/saccharomyces_cerevisiae/dna), followed by samtools stats to generate the stats.\n",
    "\n",
    "Read pairs are usually stored in two separate FASTQ files so that n-th read in the first file and the n-th read in the second file constitute a read pair. Can you devise a quick sanity check that reads in these two files indeed form pairs? The files must have the same number of lines and the naming of the reads usually suggests if they form a pair. The location of the files is:  \n",
    "```  \n",
    "data/lane1/s_7_1.fastq   \n",
    "data/lane1/s_7_2.fastq  \n",
    "```"
   ]
  },
  {
   "cell_type": "code",
   "execution_count": null,
   "metadata": {
    "collapsed": true
   },
   "outputs": [],
   "source": []
  },
  {
   "cell_type": "markdown",
   "metadata": {},
   "source": [
    "Let's have a look at the script we are going to run to create the mappings:"
   ]
  },
  {
   "cell_type": "code",
   "execution_count": null,
   "metadata": {
    "collapsed": false
   },
   "outputs": [],
   "source": [
    "cat create_mapping.sh"
   ]
  },
  {
   "cell_type": "markdown",
   "metadata": {},
   "source": [
    "The script contains several commands, some are combined together using pipes. (UNIX pipes is a very powerful and elegant concept which allows us to feed the output of one command into the next command and avoid writing intermediate files. If you are not comfortable with UNIX, consider having a go at the UNIX tutorial).\n",
    "\n",
    "Now run the script to create the mappings and stats:"
   ]
  },
  {
   "cell_type": "code",
   "execution_count": null,
   "metadata": {
    "collapsed": false
   },
   "outputs": [],
   "source": [
    "./create_mapping.sh"
   ]
  },
  {
   "cell_type": "markdown",
   "metadata": {},
   "source": [
    "The script will produce the BAM file lane1.sorted.bam and a matching index file: "
   ]
  },
  {
   "cell_type": "code",
   "execution_count": null,
   "metadata": {
    "collapsed": false
   },
   "outputs": [],
   "source": [
    "ls -alrt data"
   ]
  },
  {
   "cell_type": "markdown",
   "metadata": {},
   "source": [
    "Now we will use __`samtools stats`__ to generate the stats for the primary alignments. The option __`-f`__ can be used to filter reads with specific tags, while __`-F`__ can be used to _filter out_ reads with specific tags. The following command will include only primary alignments:"
   ]
  },
  {
   "cell_type": "code",
   "execution_count": null,
   "metadata": {
    "collapsed": false
   },
   "outputs": [],
   "source": [
    "samtools stats -F SECONDARY data/lane1.sorted.bam > data/lane1.sorted.bam.bchk"
   ]
  },
  {
   "cell_type": "markdown",
   "metadata": {},
   "source": [
    "Have a look at the first 41 lines of the statistics file that was generated:"
   ]
  },
  {
   "cell_type": "code",
   "execution_count": null,
   "metadata": {
    "collapsed": false
   },
   "outputs": [],
   "source": [
    "head -n 41 data/lane1.sorted.bam.bchk"
   ]
  },
  {
   "cell_type": "markdown",
   "metadata": {},
   "source": [
    "This file contains a number of useful stats that we can use to get a better picture of our data, and it can even be plotted with __`plot-bamstats`__, as you will see soon. First let's have a closer look at some of the different stats. Each part of the file starts with a `#` followed by a description of the section and how to extract it from the file. Let's have a look at all the sections in the file:"
   ]
  },
  {
   "cell_type": "code",
   "execution_count": null,
   "metadata": {
    "collapsed": false,
    "scrolled": false
   },
   "outputs": [],
   "source": [
    "grep ^'#' data/lane1.sorted.bam.bchk | grep 'Use'"
   ]
  },
  {
   "cell_type": "markdown",
   "metadata": {},
   "source": [
    "### Summary Numbers (SN)\n",
    "This initial section contains a summary of the alignment and includes some general statistics. In particular, you can see how many bases mapped, and how much of the genome that was covered."
   ]
  },
  {
   "cell_type": "markdown",
   "metadata": {},
   "source": [
    "Now look at the output and try to answer the questions below.\n",
    "\n",
    "__Q2: What is the total number of reads?__"
   ]
  },
  {
   "cell_type": "code",
   "execution_count": null,
   "metadata": {
    "collapsed": false
   },
   "outputs": [],
   "source": []
  },
  {
   "cell_type": "markdown",
   "metadata": {},
   "source": [
    "__Q3: What proportion of the reads were mapped?__"
   ]
  },
  {
   "cell_type": "code",
   "execution_count": null,
   "metadata": {
    "collapsed": true
   },
   "outputs": [],
   "source": []
  },
  {
   "cell_type": "markdown",
   "metadata": {},
   "source": [
    "__Q4: How many pairs were mapped to a different chromosome?__"
   ]
  },
  {
   "cell_type": "code",
   "execution_count": null,
   "metadata": {
    "collapsed": true
   },
   "outputs": [],
   "source": []
  },
  {
   "cell_type": "markdown",
   "metadata": {},
   "source": [
    "__Q5: What is the insert size mean and standard deviation?__"
   ]
  },
  {
   "cell_type": "code",
   "execution_count": null,
   "metadata": {
    "collapsed": true
   },
   "outputs": [],
   "source": []
  },
  {
   "cell_type": "markdown",
   "metadata": {},
   "source": [
    "__Q6: How many reads were paired properly?__"
   ]
  },
  {
   "cell_type": "code",
   "execution_count": null,
   "metadata": {
    "collapsed": false
   },
   "outputs": [],
   "source": []
  },
  {
   "cell_type": "markdown",
   "metadata": {},
   "source": [
    "Finally, we will create some QC plots from the output of the stats command using the command __plot-bamstats__ which is included in the samtools package: "
   ]
  },
  {
   "cell_type": "code",
   "execution_count": null,
   "metadata": {
    "collapsed": false
   },
   "outputs": [],
   "source": [
    "plot-bamstats -p data/lane1-plots/ data/lane1.sorted.bam.bchk"
   ]
  },
  {
   "cell_type": "markdown",
   "metadata": {},
   "source": [
    "Now in your web browser open the file lane1-plots/index.html to view the QC information.\n",
    "\n",
    "__Q7: How many reads have zero mapping quality?__"
   ]
  },
  {
   "cell_type": "code",
   "execution_count": null,
   "metadata": {
    "collapsed": true
   },
   "outputs": [],
   "source": []
  },
  {
   "cell_type": "markdown",
   "metadata": {},
   "source": [
    "__Q8: Which of the first fragments or second fragments are higher base quality on average?__  "
   ]
  },
  {
   "cell_type": "code",
   "execution_count": null,
   "metadata": {
    "collapsed": true
   },
   "outputs": [],
   "source": []
  },
  {
   "cell_type": "markdown",
   "metadata": {},
   "source": [
    "The answers to the questions on this page can be found [here](assessment-answers.ipynb).   \n",
    "\n",
    "Now continue to the next section of the tutorial: [Identifying contamination](contamination.ipynb)  \n",
    "Alternatively, you can return to the [previous section](conversion.ipynb) or the [index page](index.ipynb)."
   ]
  }
 ],
 "metadata": {
  "kernelspec": {
   "display_name": "Bash",
   "language": "bash",
   "name": "bash"
  },
  "language_info": {
   "codemirror_mode": "shell",
   "file_extension": ".sh",
   "mimetype": "text/x-sh",
   "name": "bash"
  }
 },
 "nbformat": 4,
 "nbformat_minor": 2
}
