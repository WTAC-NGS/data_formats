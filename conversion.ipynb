{
 "cells": [
  {
   "cell_type": "markdown",
   "metadata": {},
   "source": [
    "# File conversion\n",
    "## SAM to BAM (and vice versa)\n",
    "\n",
    "## BAM to CRAM\n",
    "We will convert a yeast BAM file to CRAM. In the data directory, there is a BAM file called yeast.bam that was created from S. cerevisiae Illumina sequencing data.\n",
    "\n",
    " Can you convert the BAM file to a CRAM file called yeast.cram using the samtools view command? Note the reference genome is stored in the file Saccharomyces_cerevisiae.EF4.68.dna.toplevel.fa\n",
    " Since CRAM files use reference based compression, we expect the CRAM file to be smaller than the BAM file. What is the size of the CRAM file?\n",
    "\n",
    " Is your CRAM file smaller than the original BAM file?\n",
    "## FASTQ to SAM/BAM (and vice versa)\n",
    "## FASTQ to CRAM (and vice versa)\n",
    "## VCV to BCF (and vice versa)"
   ]
  }
 ],
 "metadata": {
  "kernelspec": {
   "display_name": "Python 3",
   "language": "python",
   "name": "python3"
  },
  "language_info": {
   "codemirror_mode": {
    "name": "ipython",
    "version": 3
   },
   "file_extension": ".py",
   "mimetype": "text/x-python",
   "name": "python",
   "nbconvert_exporter": "python",
   "pygments_lexer": "ipython3",
   "version": "3.6.0"
  }
 },
 "nbformat": 4,
 "nbformat_minor": 2
}
